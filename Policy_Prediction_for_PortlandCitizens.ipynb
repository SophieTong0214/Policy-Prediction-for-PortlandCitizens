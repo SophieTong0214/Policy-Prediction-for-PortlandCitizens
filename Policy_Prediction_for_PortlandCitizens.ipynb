{
  "nbformat": 4,
  "nbformat_minor": 0,
  "metadata": {
    "colab": {
      "provenance": []
    },
    "kernelspec": {
      "name": "python3",
      "display_name": "Python 3"
    },
    "language_info": {
      "name": "python"
    }
  },
  "cells": [
    {
      "cell_type": "markdown",
      "source": [
        "### ALY6080 Integrated Experiential Learning\n",
        "# **Policy Prediction for Portland Citizens**\n",
        "\n",
        "### Prepared by: Sophie Tong\n",
        "                            \n",
        "### Presented to: Professor  Chinthaka Pathum Dinesh\n",
        "#### Date of submission: Dec 14, 2023\n",
        "\n",
        "\n",
        "#### Data set: https://northeastern.instructure.com/courses/159887/files/23267393/download?download_frd=1\n"
      ],
      "metadata": {
        "id": "jS3rrilcAmmA"
      }
    },
    {
      "cell_type": "markdown",
      "source": [
        "#  Project Overview\n",
        "\n",
        "\n",
        "Dataset: The project utilizes two datasets—Portland citizen demographic data and a text dataset comprising 389 PDF documents.\n",
        "\n",
        "Objectives and Values:\n",
        "1. Objective: Predict the most advantageous policies for individuals based on demographic attributes and text data.\n",
        "2. Value: Leverage extensive data resources for analyzing and identifying impactful public policies tailored to individuals' needs and interactions with public services.\n",
        "\n",
        "Methodology:\n",
        "1. Data Collection: Gather Portland citizen demographic data and text documents.\n",
        "2. Preprocessing: Clean and preprocess the text data for analysis.\n",
        "3. Text Mining: Utilize techniques such as TF-IDF, Named Entity Recognition (NER), and topic modeling to extract insights from the text dataset.\n",
        "4. Analysis: Apply methods like K-Means clustering and LDA modeling to analyze the data and predict optimal policies.\n",
        "5. Evaluation: Assess the accuracy and performance of the prediction models.\n",
        "\n",
        "\n",
        "Findings and Recommendations:\n",
        "1. Keyword Optimization: Enhance prediction accuracy by optimizing keywords used in interest classification.\n",
        "2. Model Refinement: Continuously refine the models based on feedback from domain experts to improve recommendation accuracy.\n",
        "3. Further Optimization: Despite efforts,the project faces challenges in accurately predicting optimal policies and constructing a targeted recommendation system. Explore additional techniques and strategies to enhance the precision of policy predictions and recommendation systems.\n",
        "\n",
        "\n"
      ],
      "metadata": {
        "id": "RXwfQqKnyCyB"
      }
    },
    {
      "cell_type": "markdown",
      "source": [
        "# Portland Citizen Data Analysis"
      ],
      "metadata": {
        "id": "n54z_Un_wekb"
      }
    },
    {
      "cell_type": "markdown",
      "source": [
        "## Get data and libraries ready"
      ],
      "metadata": {
        "id": "qLiS8dgCwtgR"
      }
    },
    {
      "cell_type": "code",
      "source": [
        "#import all libraries\n",
        "\n",
        "#import all libraries\n",
        "import numpy as np\n",
        "import pandas as pd\n",
        "import matplotlib.pyplot as plt\n",
        "import seaborn as sns\n",
        "import scipy.stats as stats\n",
        "from scipy.stats import t\n",
        "from google.colab import drive"
      ],
      "metadata": {
        "id": "vlwV6VHvwsrZ"
      },
      "execution_count": null,
      "outputs": []
    },
    {
      "cell_type": "code",
      "source": [
        "df=pd.read_csv('Portlanddem.csv')"
      ],
      "metadata": {
        "id": "GU_lN50RwmqZ"
      },
      "execution_count": null,
      "outputs": []
    },
    {
      "cell_type": "markdown",
      "source": [
        "## Data Overview and cleaning"
      ],
      "metadata": {
        "id": "z6P9fKahxLWj"
      }
    },
    {
      "cell_type": "code",
      "source": [
        "#preview top 5 rows\n",
        "df.head(5)"
      ],
      "metadata": {
        "colab": {
          "base_uri": "https://localhost:8080/",
          "height": 206
        },
        "id": "lLqu-O26xJ5A",
        "outputId": "51603b87-05a1-4cc8-8e2c-32cc23ec3af2"
      },
      "execution_count": null,
      "outputs": [
        {
          "output_type": "execute_result",
          "data": {
            "text/plain": [
              "   Person       Address  AGE    Interest   Enviornmental  Infastructure   \\\n",
              "0       1      West End   25  Enviroment               5             2.0   \n",
              "1       2      Parkside   49     Saftey                1             1.0   \n",
              "2       3  East Bayside   26    Education              1             3.0   \n",
              "3       4  East Bayside   24       Safety              3             2.0   \n",
              "4       5      East End   36       Safety              1             1.0   \n",
              "\n",
              "   Education  Zoning  Safety   \n",
              "0        3.0     1.0      3.0  \n",
              "1        5.0     2.0      4.0  \n",
              "2        5.0     2.0      2.0  \n",
              "3        5.0     3.0      5.0  \n",
              "4        3.0     4.0      5.0  "
            ],
            "text/html": [
              "\n",
              "  <div id=\"df-74b45239-fe0c-4511-9f80-be104863cb5d\" class=\"colab-df-container\">\n",
              "    <div>\n",
              "<style scoped>\n",
              "    .dataframe tbody tr th:only-of-type {\n",
              "        vertical-align: middle;\n",
              "    }\n",
              "\n",
              "    .dataframe tbody tr th {\n",
              "        vertical-align: top;\n",
              "    }\n",
              "\n",
              "    .dataframe thead th {\n",
              "        text-align: right;\n",
              "    }\n",
              "</style>\n",
              "<table border=\"1\" class=\"dataframe\">\n",
              "  <thead>\n",
              "    <tr style=\"text-align: right;\">\n",
              "      <th></th>\n",
              "      <th>Person</th>\n",
              "      <th>Address</th>\n",
              "      <th>AGE</th>\n",
              "      <th>Interest</th>\n",
              "      <th>Enviornmental</th>\n",
              "      <th>Infastructure</th>\n",
              "      <th>Education</th>\n",
              "      <th>Zoning</th>\n",
              "      <th>Safety</th>\n",
              "    </tr>\n",
              "  </thead>\n",
              "  <tbody>\n",
              "    <tr>\n",
              "      <th>0</th>\n",
              "      <td>1</td>\n",
              "      <td>West End</td>\n",
              "      <td>25</td>\n",
              "      <td>Enviroment</td>\n",
              "      <td>5</td>\n",
              "      <td>2.0</td>\n",
              "      <td>3.0</td>\n",
              "      <td>1.0</td>\n",
              "      <td>3.0</td>\n",
              "    </tr>\n",
              "    <tr>\n",
              "      <th>1</th>\n",
              "      <td>2</td>\n",
              "      <td>Parkside</td>\n",
              "      <td>49</td>\n",
              "      <td>Saftey</td>\n",
              "      <td>1</td>\n",
              "      <td>1.0</td>\n",
              "      <td>5.0</td>\n",
              "      <td>2.0</td>\n",
              "      <td>4.0</td>\n",
              "    </tr>\n",
              "    <tr>\n",
              "      <th>2</th>\n",
              "      <td>3</td>\n",
              "      <td>East Bayside</td>\n",
              "      <td>26</td>\n",
              "      <td>Education</td>\n",
              "      <td>1</td>\n",
              "      <td>3.0</td>\n",
              "      <td>5.0</td>\n",
              "      <td>2.0</td>\n",
              "      <td>2.0</td>\n",
              "    </tr>\n",
              "    <tr>\n",
              "      <th>3</th>\n",
              "      <td>4</td>\n",
              "      <td>East Bayside</td>\n",
              "      <td>24</td>\n",
              "      <td>Safety</td>\n",
              "      <td>3</td>\n",
              "      <td>2.0</td>\n",
              "      <td>5.0</td>\n",
              "      <td>3.0</td>\n",
              "      <td>5.0</td>\n",
              "    </tr>\n",
              "    <tr>\n",
              "      <th>4</th>\n",
              "      <td>5</td>\n",
              "      <td>East End</td>\n",
              "      <td>36</td>\n",
              "      <td>Safety</td>\n",
              "      <td>1</td>\n",
              "      <td>1.0</td>\n",
              "      <td>3.0</td>\n",
              "      <td>4.0</td>\n",
              "      <td>5.0</td>\n",
              "    </tr>\n",
              "  </tbody>\n",
              "</table>\n",
              "</div>\n",
              "    <div class=\"colab-df-buttons\">\n",
              "\n",
              "  <div class=\"colab-df-container\">\n",
              "    <button class=\"colab-df-convert\" onclick=\"convertToInteractive('df-74b45239-fe0c-4511-9f80-be104863cb5d')\"\n",
              "            title=\"Convert this dataframe to an interactive table.\"\n",
              "            style=\"display:none;\">\n",
              "\n",
              "  <svg xmlns=\"http://www.w3.org/2000/svg\" height=\"24px\" viewBox=\"0 -960 960 960\">\n",
              "    <path d=\"M120-120v-720h720v720H120Zm60-500h600v-160H180v160Zm220 220h160v-160H400v160Zm0 220h160v-160H400v160ZM180-400h160v-160H180v160Zm440 0h160v-160H620v160ZM180-180h160v-160H180v160Zm440 0h160v-160H620v160Z\"/>\n",
              "  </svg>\n",
              "    </button>\n",
              "\n",
              "  <style>\n",
              "    .colab-df-container {\n",
              "      display:flex;\n",
              "      gap: 12px;\n",
              "    }\n",
              "\n",
              "    .colab-df-convert {\n",
              "      background-color: #E8F0FE;\n",
              "      border: none;\n",
              "      border-radius: 50%;\n",
              "      cursor: pointer;\n",
              "      display: none;\n",
              "      fill: #1967D2;\n",
              "      height: 32px;\n",
              "      padding: 0 0 0 0;\n",
              "      width: 32px;\n",
              "    }\n",
              "\n",
              "    .colab-df-convert:hover {\n",
              "      background-color: #E2EBFA;\n",
              "      box-shadow: 0px 1px 2px rgba(60, 64, 67, 0.3), 0px 1px 3px 1px rgba(60, 64, 67, 0.15);\n",
              "      fill: #174EA6;\n",
              "    }\n",
              "\n",
              "    .colab-df-buttons div {\n",
              "      margin-bottom: 4px;\n",
              "    }\n",
              "\n",
              "    [theme=dark] .colab-df-convert {\n",
              "      background-color: #3B4455;\n",
              "      fill: #D2E3FC;\n",
              "    }\n",
              "\n",
              "    [theme=dark] .colab-df-convert:hover {\n",
              "      background-color: #434B5C;\n",
              "      box-shadow: 0px 1px 3px 1px rgba(0, 0, 0, 0.15);\n",
              "      filter: drop-shadow(0px 1px 2px rgba(0, 0, 0, 0.3));\n",
              "      fill: #FFFFFF;\n",
              "    }\n",
              "  </style>\n",
              "\n",
              "    <script>\n",
              "      const buttonEl =\n",
              "        document.querySelector('#df-74b45239-fe0c-4511-9f80-be104863cb5d button.colab-df-convert');\n",
              "      buttonEl.style.display =\n",
              "        google.colab.kernel.accessAllowed ? 'block' : 'none';\n",
              "\n",
              "      async function convertToInteractive(key) {\n",
              "        const element = document.querySelector('#df-74b45239-fe0c-4511-9f80-be104863cb5d');\n",
              "        const dataTable =\n",
              "          await google.colab.kernel.invokeFunction('convertToInteractive',\n",
              "                                                    [key], {});\n",
              "        if (!dataTable) return;\n",
              "\n",
              "        const docLinkHtml = 'Like what you see? Visit the ' +\n",
              "          '<a target=\"_blank\" href=https://colab.research.google.com/notebooks/data_table.ipynb>data table notebook</a>'\n",
              "          + ' to learn more about interactive tables.';\n",
              "        element.innerHTML = '';\n",
              "        dataTable['output_type'] = 'display_data';\n",
              "        await google.colab.output.renderOutput(dataTable, element);\n",
              "        const docLink = document.createElement('div');\n",
              "        docLink.innerHTML = docLinkHtml;\n",
              "        element.appendChild(docLink);\n",
              "      }\n",
              "    </script>\n",
              "  </div>\n",
              "\n",
              "\n",
              "<div id=\"df-2b79d8f7-bf76-44c5-98f6-b6c2089db619\">\n",
              "  <button class=\"colab-df-quickchart\" onclick=\"quickchart('df-2b79d8f7-bf76-44c5-98f6-b6c2089db619')\"\n",
              "            title=\"Suggest charts\"\n",
              "            style=\"display:none;\">\n",
              "\n",
              "<svg xmlns=\"http://www.w3.org/2000/svg\" height=\"24px\"viewBox=\"0 0 24 24\"\n",
              "     width=\"24px\">\n",
              "    <g>\n",
              "        <path d=\"M19 3H5c-1.1 0-2 .9-2 2v14c0 1.1.9 2 2 2h14c1.1 0 2-.9 2-2V5c0-1.1-.9-2-2-2zM9 17H7v-7h2v7zm4 0h-2V7h2v10zm4 0h-2v-4h2v4z\"/>\n",
              "    </g>\n",
              "</svg>\n",
              "  </button>\n",
              "\n",
              "<style>\n",
              "  .colab-df-quickchart {\n",
              "      --bg-color: #E8F0FE;\n",
              "      --fill-color: #1967D2;\n",
              "      --hover-bg-color: #E2EBFA;\n",
              "      --hover-fill-color: #174EA6;\n",
              "      --disabled-fill-color: #AAA;\n",
              "      --disabled-bg-color: #DDD;\n",
              "  }\n",
              "\n",
              "  [theme=dark] .colab-df-quickchart {\n",
              "      --bg-color: #3B4455;\n",
              "      --fill-color: #D2E3FC;\n",
              "      --hover-bg-color: #434B5C;\n",
              "      --hover-fill-color: #FFFFFF;\n",
              "      --disabled-bg-color: #3B4455;\n",
              "      --disabled-fill-color: #666;\n",
              "  }\n",
              "\n",
              "  .colab-df-quickchart {\n",
              "    background-color: var(--bg-color);\n",
              "    border: none;\n",
              "    border-radius: 50%;\n",
              "    cursor: pointer;\n",
              "    display: none;\n",
              "    fill: var(--fill-color);\n",
              "    height: 32px;\n",
              "    padding: 0;\n",
              "    width: 32px;\n",
              "  }\n",
              "\n",
              "  .colab-df-quickchart:hover {\n",
              "    background-color: var(--hover-bg-color);\n",
              "    box-shadow: 0 1px 2px rgba(60, 64, 67, 0.3), 0 1px 3px 1px rgba(60, 64, 67, 0.15);\n",
              "    fill: var(--button-hover-fill-color);\n",
              "  }\n",
              "\n",
              "  .colab-df-quickchart-complete:disabled,\n",
              "  .colab-df-quickchart-complete:disabled:hover {\n",
              "    background-color: var(--disabled-bg-color);\n",
              "    fill: var(--disabled-fill-color);\n",
              "    box-shadow: none;\n",
              "  }\n",
              "\n",
              "  .colab-df-spinner {\n",
              "    border: 2px solid var(--fill-color);\n",
              "    border-color: transparent;\n",
              "    border-bottom-color: var(--fill-color);\n",
              "    animation:\n",
              "      spin 1s steps(1) infinite;\n",
              "  }\n",
              "\n",
              "  @keyframes spin {\n",
              "    0% {\n",
              "      border-color: transparent;\n",
              "      border-bottom-color: var(--fill-color);\n",
              "      border-left-color: var(--fill-color);\n",
              "    }\n",
              "    20% {\n",
              "      border-color: transparent;\n",
              "      border-left-color: var(--fill-color);\n",
              "      border-top-color: var(--fill-color);\n",
              "    }\n",
              "    30% {\n",
              "      border-color: transparent;\n",
              "      border-left-color: var(--fill-color);\n",
              "      border-top-color: var(--fill-color);\n",
              "      border-right-color: var(--fill-color);\n",
              "    }\n",
              "    40% {\n",
              "      border-color: transparent;\n",
              "      border-right-color: var(--fill-color);\n",
              "      border-top-color: var(--fill-color);\n",
              "    }\n",
              "    60% {\n",
              "      border-color: transparent;\n",
              "      border-right-color: var(--fill-color);\n",
              "    }\n",
              "    80% {\n",
              "      border-color: transparent;\n",
              "      border-right-color: var(--fill-color);\n",
              "      border-bottom-color: var(--fill-color);\n",
              "    }\n",
              "    90% {\n",
              "      border-color: transparent;\n",
              "      border-bottom-color: var(--fill-color);\n",
              "    }\n",
              "  }\n",
              "</style>\n",
              "\n",
              "  <script>\n",
              "    async function quickchart(key) {\n",
              "      const quickchartButtonEl =\n",
              "        document.querySelector('#' + key + ' button');\n",
              "      quickchartButtonEl.disabled = true;  // To prevent multiple clicks.\n",
              "      quickchartButtonEl.classList.add('colab-df-spinner');\n",
              "      try {\n",
              "        const charts = await google.colab.kernel.invokeFunction(\n",
              "            'suggestCharts', [key], {});\n",
              "      } catch (error) {\n",
              "        console.error('Error during call to suggestCharts:', error);\n",
              "      }\n",
              "      quickchartButtonEl.classList.remove('colab-df-spinner');\n",
              "      quickchartButtonEl.classList.add('colab-df-quickchart-complete');\n",
              "    }\n",
              "    (() => {\n",
              "      let quickchartButtonEl =\n",
              "        document.querySelector('#df-2b79d8f7-bf76-44c5-98f6-b6c2089db619 button');\n",
              "      quickchartButtonEl.style.display =\n",
              "        google.colab.kernel.accessAllowed ? 'block' : 'none';\n",
              "    })();\n",
              "  </script>\n",
              "</div>\n",
              "\n",
              "    </div>\n",
              "  </div>\n"
            ]
          },
          "metadata": {},
          "execution_count": 3
        }
      ]
    },
    {
      "cell_type": "code",
      "source": [
        "#preview table structure\n",
        "df.info()"
      ],
      "metadata": {
        "colab": {
          "base_uri": "https://localhost:8080/"
        },
        "id": "ZnA_8PXrxEo0",
        "outputId": "66a408cb-e507-499c-e8ad-5316c693b0f4"
      },
      "execution_count": null,
      "outputs": [
        {
          "output_type": "stream",
          "name": "stdout",
          "text": [
            "<class 'pandas.core.frame.DataFrame'>\n",
            "RangeIndex: 500 entries, 0 to 499\n",
            "Data columns (total 9 columns):\n",
            " #   Column          Non-Null Count  Dtype  \n",
            "---  ------          --------------  -----  \n",
            " 0   Person          500 non-null    int64  \n",
            " 1   Address         500 non-null    object \n",
            " 2   AGE             500 non-null    int64  \n",
            " 3   Interest        500 non-null    object \n",
            " 4   Enviornmental   500 non-null    int64  \n",
            " 5   Infastructure   499 non-null    float64\n",
            " 6   Education       499 non-null    float64\n",
            " 7   Zoning          499 non-null    float64\n",
            " 8   Safety          499 non-null    float64\n",
            "dtypes: float64(4), int64(3), object(2)\n",
            "memory usage: 35.3+ KB\n"
          ]
        }
      ]
    },
    {
      "cell_type": "code",
      "source": [
        "#check missing value\n",
        "df.isnull().sum()"
      ],
      "metadata": {
        "colab": {
          "base_uri": "https://localhost:8080/"
        },
        "id": "M7s-bwqYxYiI",
        "outputId": "22397d00-b639-44fb-a5f0-2e01b2756e34"
      },
      "execution_count": null,
      "outputs": [
        {
          "output_type": "execute_result",
          "data": {
            "text/plain": [
              "Person            0\n",
              "Address           0\n",
              "AGE               0\n",
              "Interest          0\n",
              "Enviornmental     0\n",
              "Infastructure     1\n",
              "Education         1\n",
              "Zoning            1\n",
              "Safety            1\n",
              "dtype: int64"
            ]
          },
          "metadata": {},
          "execution_count": 5
        }
      ]
    },
    {
      "cell_type": "code",
      "source": [
        "# Replace missing values with the mean of their respective columns\n",
        "df1 = df.fillna(df.mean(numeric_only=True))\n",
        "#check columns remain, confirm 'person' removed\n",
        "df1.columns"
      ],
      "metadata": {
        "colab": {
          "base_uri": "https://localhost:8080/"
        },
        "id": "0sv6L-S0xgUl",
        "outputId": "5853dfc7-1a5c-40e0-9ee1-e3ad4380377c"
      },
      "execution_count": null,
      "outputs": [
        {
          "output_type": "execute_result",
          "data": {
            "text/plain": [
              "Index(['Person', 'Address', 'AGE', 'Interest ', 'Enviornmental',\n",
              "       'Infastructure ', 'Education', 'Zoning', 'Safety '],\n",
              "      dtype='object')"
            ]
          },
          "metadata": {},
          "execution_count": 6
        }
      ]
    },
    {
      "cell_type": "code",
      "source": [
        "# List of columns to drop\n",
        "columns_to_drop = [ 'Enviornmental','Infastructure ', 'Education', 'Zoning', 'Safety ']\n",
        "\n",
        "# Drop the specified columns from df1\n",
        "df1 = df1.drop(columns=columns_to_drop)\n",
        "\n",
        "# Display the updated DataFrame\n",
        "print(df1)"
      ],
      "metadata": {
        "id": "iOqf1MgpKjaV",
        "colab": {
          "base_uri": "https://localhost:8080/"
        },
        "outputId": "f1eddff5-f0e0-4e2b-f46d-4078138e44f4"
      },
      "execution_count": null,
      "outputs": [
        {
          "output_type": "stream",
          "name": "stdout",
          "text": [
            "     Person       Address  AGE       Interest \n",
            "0         1      West End   25     Enviroment \n",
            "1         2      Parkside   49        Saftey  \n",
            "2         3  East Bayside   26       Education\n",
            "3         4  East Bayside   24          Safety\n",
            "4         5      East End   36          Safety\n",
            "..      ...           ...  ...             ...\n",
            "495     496     Back Cove   48       Education\n",
            "496     497  East Bayside   36          Zoning\n",
            "497     498     Back Cove   41          Zoning\n",
            "498     499       Deering   26  Infrastructure\n",
            "499     500  East Bayside   32       Education\n",
            "\n",
            "[500 rows x 4 columns]\n"
          ]
        }
      ]
    },
    {
      "cell_type": "code",
      "source": [
        "df1['Interest '].unique()"
      ],
      "metadata": {
        "colab": {
          "base_uri": "https://localhost:8080/"
        },
        "id": "-dpG0QHrxxR4",
        "outputId": "f2e96550-7987-49c8-cc1b-d161fb4fded4"
      },
      "execution_count": null,
      "outputs": [
        {
          "output_type": "execute_result",
          "data": {
            "text/plain": [
              "array(['Enviroment ', 'Saftey  ', 'Education', 'Safety', 'Infrastructure',\n",
              "       'Zoning', 'Environmental'], dtype=object)"
            ]
          },
          "metadata": {},
          "execution_count": 8
        }
      ]
    },
    {
      "cell_type": "code",
      "source": [
        "# correct the wrong words in the interest value to align with the column\n",
        "df1 = df1.replace('Saftey ', 'Safety', regex=True)\n",
        "df1 = df1.replace('Safety ', 'Safety', regex=True)\n",
        "df1 = df1.replace('Enviroment ', 'Environmental', regex=True)\n",
        "df1 = df1.replace('Environmental ', 'Environmental', regex=True)\n",
        "# Rename the column 'Interest  ' to 'Interest'\n",
        "df1 = df1.rename(columns={'Interest ': 'Interest'})\n",
        "df1['Interest'].unique()"
      ],
      "metadata": {
        "colab": {
          "base_uri": "https://localhost:8080/"
        },
        "id": "H1RJ1trSyEdn",
        "outputId": "188f47bb-2633-47ab-8425-bf6b34cf09f4"
      },
      "execution_count": null,
      "outputs": [
        {
          "output_type": "execute_result",
          "data": {
            "text/plain": [
              "array(['Environmental', 'Safety', 'Education', 'Infrastructure', 'Zoning'],\n",
              "      dtype=object)"
            ]
          },
          "metadata": {},
          "execution_count": 13
        }
      ]
    },
    {
      "cell_type": "code",
      "source": [
        "# Recheck the column name\n",
        "df1.columns"
      ],
      "metadata": {
        "colab": {
          "base_uri": "https://localhost:8080/"
        },
        "id": "JoVuBPklhsE0",
        "outputId": "323923cd-b366-4302-d13b-dda6939c095f"
      },
      "execution_count": null,
      "outputs": [
        {
          "output_type": "execute_result",
          "data": {
            "text/plain": [
              "Index(['Person', 'Address', 'AGE', 'Interest'], dtype='object')"
            ]
          },
          "metadata": {},
          "execution_count": 14
        }
      ]
    },
    {
      "cell_type": "code",
      "source": [
        "#summary stats of new dataset\n",
        "df1.describe(include='all')"
      ],
      "metadata": {
        "colab": {
          "base_uri": "https://localhost:8080/",
          "height": 394
        },
        "id": "QDWzGwY1yQFu",
        "outputId": "504eeba5-a32e-4a77-f324-deab252c921a"
      },
      "execution_count": null,
      "outputs": [
        {
          "output_type": "execute_result",
          "data": {
            "text/plain": [
              "            Person      Address         AGE Interest\n",
              "count   500.000000          500  500.000000      500\n",
              "unique         NaN           10         NaN        5\n",
              "top            NaN  Munjoy Hill         NaN   Safety\n",
              "freq           NaN           61         NaN      105\n",
              "mean    250.500000          NaN   37.306000      NaN\n",
              "std     144.481833          NaN   11.299723      NaN\n",
              "min       1.000000          NaN   18.000000      NaN\n",
              "25%     125.750000          NaN   28.000000      NaN\n",
              "50%     250.500000          NaN   36.500000      NaN\n",
              "75%     375.250000          NaN   47.000000      NaN\n",
              "max     500.000000          NaN   56.000000      NaN"
            ],
            "text/html": [
              "\n",
              "  <div id=\"df-1de85b83-68b1-40c7-a4ee-f7ef71487055\" class=\"colab-df-container\">\n",
              "    <div>\n",
              "<style scoped>\n",
              "    .dataframe tbody tr th:only-of-type {\n",
              "        vertical-align: middle;\n",
              "    }\n",
              "\n",
              "    .dataframe tbody tr th {\n",
              "        vertical-align: top;\n",
              "    }\n",
              "\n",
              "    .dataframe thead th {\n",
              "        text-align: right;\n",
              "    }\n",
              "</style>\n",
              "<table border=\"1\" class=\"dataframe\">\n",
              "  <thead>\n",
              "    <tr style=\"text-align: right;\">\n",
              "      <th></th>\n",
              "      <th>Person</th>\n",
              "      <th>Address</th>\n",
              "      <th>AGE</th>\n",
              "      <th>Interest</th>\n",
              "    </tr>\n",
              "  </thead>\n",
              "  <tbody>\n",
              "    <tr>\n",
              "      <th>count</th>\n",
              "      <td>500.000000</td>\n",
              "      <td>500</td>\n",
              "      <td>500.000000</td>\n",
              "      <td>500</td>\n",
              "    </tr>\n",
              "    <tr>\n",
              "      <th>unique</th>\n",
              "      <td>NaN</td>\n",
              "      <td>10</td>\n",
              "      <td>NaN</td>\n",
              "      <td>5</td>\n",
              "    </tr>\n",
              "    <tr>\n",
              "      <th>top</th>\n",
              "      <td>NaN</td>\n",
              "      <td>Munjoy Hill</td>\n",
              "      <td>NaN</td>\n",
              "      <td>Safety</td>\n",
              "    </tr>\n",
              "    <tr>\n",
              "      <th>freq</th>\n",
              "      <td>NaN</td>\n",
              "      <td>61</td>\n",
              "      <td>NaN</td>\n",
              "      <td>105</td>\n",
              "    </tr>\n",
              "    <tr>\n",
              "      <th>mean</th>\n",
              "      <td>250.500000</td>\n",
              "      <td>NaN</td>\n",
              "      <td>37.306000</td>\n",
              "      <td>NaN</td>\n",
              "    </tr>\n",
              "    <tr>\n",
              "      <th>std</th>\n",
              "      <td>144.481833</td>\n",
              "      <td>NaN</td>\n",
              "      <td>11.299723</td>\n",
              "      <td>NaN</td>\n",
              "    </tr>\n",
              "    <tr>\n",
              "      <th>min</th>\n",
              "      <td>1.000000</td>\n",
              "      <td>NaN</td>\n",
              "      <td>18.000000</td>\n",
              "      <td>NaN</td>\n",
              "    </tr>\n",
              "    <tr>\n",
              "      <th>25%</th>\n",
              "      <td>125.750000</td>\n",
              "      <td>NaN</td>\n",
              "      <td>28.000000</td>\n",
              "      <td>NaN</td>\n",
              "    </tr>\n",
              "    <tr>\n",
              "      <th>50%</th>\n",
              "      <td>250.500000</td>\n",
              "      <td>NaN</td>\n",
              "      <td>36.500000</td>\n",
              "      <td>NaN</td>\n",
              "    </tr>\n",
              "    <tr>\n",
              "      <th>75%</th>\n",
              "      <td>375.250000</td>\n",
              "      <td>NaN</td>\n",
              "      <td>47.000000</td>\n",
              "      <td>NaN</td>\n",
              "    </tr>\n",
              "    <tr>\n",
              "      <th>max</th>\n",
              "      <td>500.000000</td>\n",
              "      <td>NaN</td>\n",
              "      <td>56.000000</td>\n",
              "      <td>NaN</td>\n",
              "    </tr>\n",
              "  </tbody>\n",
              "</table>\n",
              "</div>\n",
              "    <div class=\"colab-df-buttons\">\n",
              "\n",
              "  <div class=\"colab-df-container\">\n",
              "    <button class=\"colab-df-convert\" onclick=\"convertToInteractive('df-1de85b83-68b1-40c7-a4ee-f7ef71487055')\"\n",
              "            title=\"Convert this dataframe to an interactive table.\"\n",
              "            style=\"display:none;\">\n",
              "\n",
              "  <svg xmlns=\"http://www.w3.org/2000/svg\" height=\"24px\" viewBox=\"0 -960 960 960\">\n",
              "    <path d=\"M120-120v-720h720v720H120Zm60-500h600v-160H180v160Zm220 220h160v-160H400v160Zm0 220h160v-160H400v160ZM180-400h160v-160H180v160Zm440 0h160v-160H620v160ZM180-180h160v-160H180v160Zm440 0h160v-160H620v160Z\"/>\n",
              "  </svg>\n",
              "    </button>\n",
              "\n",
              "  <style>\n",
              "    .colab-df-container {\n",
              "      display:flex;\n",
              "      gap: 12px;\n",
              "    }\n",
              "\n",
              "    .colab-df-convert {\n",
              "      background-color: #E8F0FE;\n",
              "      border: none;\n",
              "      border-radius: 50%;\n",
              "      cursor: pointer;\n",
              "      display: none;\n",
              "      fill: #1967D2;\n",
              "      height: 32px;\n",
              "      padding: 0 0 0 0;\n",
              "      width: 32px;\n",
              "    }\n",
              "\n",
              "    .colab-df-convert:hover {\n",
              "      background-color: #E2EBFA;\n",
              "      box-shadow: 0px 1px 2px rgba(60, 64, 67, 0.3), 0px 1px 3px 1px rgba(60, 64, 67, 0.15);\n",
              "      fill: #174EA6;\n",
              "    }\n",
              "\n",
              "    .colab-df-buttons div {\n",
              "      margin-bottom: 4px;\n",
              "    }\n",
              "\n",
              "    [theme=dark] .colab-df-convert {\n",
              "      background-color: #3B4455;\n",
              "      fill: #D2E3FC;\n",
              "    }\n",
              "\n",
              "    [theme=dark] .colab-df-convert:hover {\n",
              "      background-color: #434B5C;\n",
              "      box-shadow: 0px 1px 3px 1px rgba(0, 0, 0, 0.15);\n",
              "      filter: drop-shadow(0px 1px 2px rgba(0, 0, 0, 0.3));\n",
              "      fill: #FFFFFF;\n",
              "    }\n",
              "  </style>\n",
              "\n",
              "    <script>\n",
              "      const buttonEl =\n",
              "        document.querySelector('#df-1de85b83-68b1-40c7-a4ee-f7ef71487055 button.colab-df-convert');\n",
              "      buttonEl.style.display =\n",
              "        google.colab.kernel.accessAllowed ? 'block' : 'none';\n",
              "\n",
              "      async function convertToInteractive(key) {\n",
              "        const element = document.querySelector('#df-1de85b83-68b1-40c7-a4ee-f7ef71487055');\n",
              "        const dataTable =\n",
              "          await google.colab.kernel.invokeFunction('convertToInteractive',\n",
              "                                                    [key], {});\n",
              "        if (!dataTable) return;\n",
              "\n",
              "        const docLinkHtml = 'Like what you see? Visit the ' +\n",
              "          '<a target=\"_blank\" href=https://colab.research.google.com/notebooks/data_table.ipynb>data table notebook</a>'\n",
              "          + ' to learn more about interactive tables.';\n",
              "        element.innerHTML = '';\n",
              "        dataTable['output_type'] = 'display_data';\n",
              "        await google.colab.output.renderOutput(dataTable, element);\n",
              "        const docLink = document.createElement('div');\n",
              "        docLink.innerHTML = docLinkHtml;\n",
              "        element.appendChild(docLink);\n",
              "      }\n",
              "    </script>\n",
              "  </div>\n",
              "\n",
              "\n",
              "<div id=\"df-70e4f167-ded7-4d9b-84ac-67f5847b6bda\">\n",
              "  <button class=\"colab-df-quickchart\" onclick=\"quickchart('df-70e4f167-ded7-4d9b-84ac-67f5847b6bda')\"\n",
              "            title=\"Suggest charts\"\n",
              "            style=\"display:none;\">\n",
              "\n",
              "<svg xmlns=\"http://www.w3.org/2000/svg\" height=\"24px\"viewBox=\"0 0 24 24\"\n",
              "     width=\"24px\">\n",
              "    <g>\n",
              "        <path d=\"M19 3H5c-1.1 0-2 .9-2 2v14c0 1.1.9 2 2 2h14c1.1 0 2-.9 2-2V5c0-1.1-.9-2-2-2zM9 17H7v-7h2v7zm4 0h-2V7h2v10zm4 0h-2v-4h2v4z\"/>\n",
              "    </g>\n",
              "</svg>\n",
              "  </button>\n",
              "\n",
              "<style>\n",
              "  .colab-df-quickchart {\n",
              "      --bg-color: #E8F0FE;\n",
              "      --fill-color: #1967D2;\n",
              "      --hover-bg-color: #E2EBFA;\n",
              "      --hover-fill-color: #174EA6;\n",
              "      --disabled-fill-color: #AAA;\n",
              "      --disabled-bg-color: #DDD;\n",
              "  }\n",
              "\n",
              "  [theme=dark] .colab-df-quickchart {\n",
              "      --bg-color: #3B4455;\n",
              "      --fill-color: #D2E3FC;\n",
              "      --hover-bg-color: #434B5C;\n",
              "      --hover-fill-color: #FFFFFF;\n",
              "      --disabled-bg-color: #3B4455;\n",
              "      --disabled-fill-color: #666;\n",
              "  }\n",
              "\n",
              "  .colab-df-quickchart {\n",
              "    background-color: var(--bg-color);\n",
              "    border: none;\n",
              "    border-radius: 50%;\n",
              "    cursor: pointer;\n",
              "    display: none;\n",
              "    fill: var(--fill-color);\n",
              "    height: 32px;\n",
              "    padding: 0;\n",
              "    width: 32px;\n",
              "  }\n",
              "\n",
              "  .colab-df-quickchart:hover {\n",
              "    background-color: var(--hover-bg-color);\n",
              "    box-shadow: 0 1px 2px rgba(60, 64, 67, 0.3), 0 1px 3px 1px rgba(60, 64, 67, 0.15);\n",
              "    fill: var(--button-hover-fill-color);\n",
              "  }\n",
              "\n",
              "  .colab-df-quickchart-complete:disabled,\n",
              "  .colab-df-quickchart-complete:disabled:hover {\n",
              "    background-color: var(--disabled-bg-color);\n",
              "    fill: var(--disabled-fill-color);\n",
              "    box-shadow: none;\n",
              "  }\n",
              "\n",
              "  .colab-df-spinner {\n",
              "    border: 2px solid var(--fill-color);\n",
              "    border-color: transparent;\n",
              "    border-bottom-color: var(--fill-color);\n",
              "    animation:\n",
              "      spin 1s steps(1) infinite;\n",
              "  }\n",
              "\n",
              "  @keyframes spin {\n",
              "    0% {\n",
              "      border-color: transparent;\n",
              "      border-bottom-color: var(--fill-color);\n",
              "      border-left-color: var(--fill-color);\n",
              "    }\n",
              "    20% {\n",
              "      border-color: transparent;\n",
              "      border-left-color: var(--fill-color);\n",
              "      border-top-color: var(--fill-color);\n",
              "    }\n",
              "    30% {\n",
              "      border-color: transparent;\n",
              "      border-left-color: var(--fill-color);\n",
              "      border-top-color: var(--fill-color);\n",
              "      border-right-color: var(--fill-color);\n",
              "    }\n",
              "    40% {\n",
              "      border-color: transparent;\n",
              "      border-right-color: var(--fill-color);\n",
              "      border-top-color: var(--fill-color);\n",
              "    }\n",
              "    60% {\n",
              "      border-color: transparent;\n",
              "      border-right-color: var(--fill-color);\n",
              "    }\n",
              "    80% {\n",
              "      border-color: transparent;\n",
              "      border-right-color: var(--fill-color);\n",
              "      border-bottom-color: var(--fill-color);\n",
              "    }\n",
              "    90% {\n",
              "      border-color: transparent;\n",
              "      border-bottom-color: var(--fill-color);\n",
              "    }\n",
              "  }\n",
              "</style>\n",
              "\n",
              "  <script>\n",
              "    async function quickchart(key) {\n",
              "      const quickchartButtonEl =\n",
              "        document.querySelector('#' + key + ' button');\n",
              "      quickchartButtonEl.disabled = true;  // To prevent multiple clicks.\n",
              "      quickchartButtonEl.classList.add('colab-df-spinner');\n",
              "      try {\n",
              "        const charts = await google.colab.kernel.invokeFunction(\n",
              "            'suggestCharts', [key], {});\n",
              "      } catch (error) {\n",
              "        console.error('Error during call to suggestCharts:', error);\n",
              "      }\n",
              "      quickchartButtonEl.classList.remove('colab-df-spinner');\n",
              "      quickchartButtonEl.classList.add('colab-df-quickchart-complete');\n",
              "    }\n",
              "    (() => {\n",
              "      let quickchartButtonEl =\n",
              "        document.querySelector('#df-70e4f167-ded7-4d9b-84ac-67f5847b6bda button');\n",
              "      quickchartButtonEl.style.display =\n",
              "        google.colab.kernel.accessAllowed ? 'block' : 'none';\n",
              "    })();\n",
              "  </script>\n",
              "</div>\n",
              "\n",
              "    </div>\n",
              "  </div>\n"
            ]
          },
          "metadata": {},
          "execution_count": 15
        }
      ]
    },
    {
      "cell_type": "markdown",
      "source": [
        "## EDA of Portland Citizen Dataset"
      ],
      "metadata": {
        "id": "r1wthv5M9Xdh"
      }
    },
    {
      "cell_type": "code",
      "source": [
        "# Calculate the distribution of 'Interest'\n",
        "interest_distribution = df1['Interest'].value_counts()\n",
        "\n",
        "# Calculate the distribution of 'Address'\n",
        "address_distribution = df1['Address'].value_counts()\n",
        "\n",
        "# Plot the distribution of 'Interest' as a pie chart\n",
        "plt.figure(figsize=(8, 8))\n",
        "interest_distribution.plot(kind='pie', autopct='%1.1f%%', colors=['skyblue', 'lightcoral', 'lightgreen', 'yellow','lightcoral'])\n",
        "plt.title('Distribution of Interest')\n",
        "\n",
        "# Plot a count plot for 'Interest' and 'Address'\n",
        "plt.figure(figsize=(12, 6))\n",
        "sns.countplot(x='Address', hue='Interest', data=df1, palette='viridis')\n",
        "plt.title('Count Plot: Interest distribution across Addresses')\n",
        "plt.xlabel('Address')\n",
        "plt.ylabel('Count')\n",
        "plt.show()\n",
        "\n",
        "# Show the plots\n",
        "plt.tight_layout()\n",
        "plt.show()"
      ],
      "metadata": {
        "id": "FCNLbEgWf4nm",
        "colab": {
          "base_uri": "https://localhost:8080/",
          "height": 1000
        },
        "outputId": "0d0ab1ae-fe4d-480f-ea7e-87ac33c84826"
      },
      "execution_count": null,
      "outputs": [
        {
          "output_type": "display_data",
          "data": {
            "text/plain": [
              "<Figure size 800x800 with 1 Axes>"
            ],
            "image/png": "[encoded data removed]"
          },
          "metadata": {}
        },
        {
          "output_type": "display_data",
          "data": {
            "text/plain": [
              "<Figure size 1200x600 with 1 Axes>"
            ],
            "image/png": "[encoded data removed]"
          },
          "metadata": {}
        },
        {
          "output_type": "display_data",
          "data": {
            "text/plain": [
              "<Figure size 640x480 with 0 Axes>"
            ]
          },
          "metadata": {}
        }
      ]
    },
    {
      "cell_type": "markdown",
      "source": [
        "# Text Data Analysis\n",
        "\n"
      ],
      "metadata": {
        "id": "lMyahalU8psp"
      }
    },
    {
      "cell_type": "markdown",
      "source": [
        "## 1.Get the libraries and Read Data"
      ],
      "metadata": {
        "id": "1-JsBQFH5Kjr"
      }
    },
    {
      "cell_type": "code",
      "source": [
        "from google.colab import drive"
      ],
      "metadata": {
        "id": "Lbxm4bjPeg56"
      },
      "execution_count": null,
      "outputs": []
    },
    {
      "cell_type": "code",
      "source": [
        "pip install PyPDF2"
      ],
      "metadata": {
        "colab": {
          "base_uri": "https://localhost:8080/"
        },
        "id": "VMNNN2C0Y5Ck",
        "outputId": "dd377fa2-4937-4fda-e83d-99c592f05257"
      },
      "execution_count": null,
      "outputs": [
        {
          "output_type": "stream",
          "name": "stdout",
          "text": [
            "Requirement already satisfied: PyPDF2 in /usr/local/lib/python3.10/dist-packages (3.0.1)\n"
          ]
        }
      ]
    },
    {
      "cell_type": "code",
      "source": [
        "# Importing necessary library\n",
        "import pandas as pd\n",
        "import numpy as np\n",
        "import matplotlib.pyplot as plt\n",
        "import nltk # natural language toolkit\n",
        "import os\n",
        "import nltk.corpus\n",
        "import requests\n",
        "import io\n",
        "from PyPDF2 import PdfReader\n",
        "import warnings\n",
        "warnings.filterwarnings(\"ignore\", category=UserWarning, module=\"PyPDF2\")\n",
        "\n",
        "import nltk\n",
        "from nltk.corpus import stopwords\n",
        "nltk.download('punkt')\n",
        "import string\n",
        "from nltk.probability import FreqDist\n",
        "from wordcloud import WordCloud\n",
        "from sklearn.feature_extraction.text import TfidfVectorizer\n",
        "\n",
        "# importing word_tokenize from nltk\n",
        "from nltk.tokenize import word_tokenize  # Passing the string text into word tokenize for breaking the sentences\n",
        "from nltk.tokenize import sent_tokenize"
      ],
      "metadata": {
        "id": "bAcuL-AU9FEP",
        "colab": {
          "base_uri": "https://localhost:8080/"
        },
        "outputId": "a66960fe-f6f6-4ebc-f898-a25ddc9425a5"
      },
      "execution_count": null,
      "outputs": [
        {
          "output_type": "stream",
          "name": "stderr",
          "text": [
            "[nltk_data] Downloading package punkt to /root/nltk_data...\n",
            "[nltk_data]   Unzipping tokenizers/punkt.zip.\n"
          ]
        }
      ]
    },
    {
      "cell_type": "code",
      "source": [
        "# Read the CSV file\n",
        "df2 = pd.read_csv('Portlandtext.csv')"
      ],
      "metadata": {
        "id": "np7DfEidtWH7"
      },
      "execution_count": null,
      "outputs": []
    },
    {
      "cell_type": "code",
      "source": [
        "df2.head()"
      ],
      "metadata": {
        "colab": {
          "base_uri": "https://localhost:8080/",
          "height": 310
        },
        "id": "6MYm--KQn3n6",
        "outputId": "9e97726d-7eba-4bf0-da45-e8db73b50271"
      },
      "execution_count": null,
      "outputs": [
        {
          "output_type": "execute_result",
          "data": {
            "text/plain": [
              "  Classification Number    Type  \\\n",
              "0    Order 1-21-22 (PDF)  Order   \n",
              "1    Order 2-21-22 (PDF)  Order   \n",
              "2    Order 3-21-22 (PDF)  Order   \n",
              "3    Order 4-21-22 (PDF)  Order   \n",
              "4    Order 5-21-22 (PDF)  Order   \n",
              "\n",
              "                                        Description   \\\n",
              "0  Order Granting a Thames Street Extension Licen...   \n",
              "1  Order Accepting the Public Art Committee Fisca...   \n",
              "2  Order Granting Municipal Officers’ Approval of...   \n",
              "3  Order Granting Municipal Officers’ Approval of...   \n",
              "4  Order Granting Municipal Officers’ Approval of...   \n",
              "\n",
              "                                                Link Passage Date  \\\n",
              "0  https://content.civicplus.com/api/assets/95133...   2021-07-19   \n",
              "1  https://content.civicplus.com/api/assets/220d1...   2021-07-19   \n",
              "2  https://content.civicplus.com/api/assets/84fbd...   2021-07-19   \n",
              "3  https://content.civicplus.com/api/assets/590d7...   2021-07-19   \n",
              "4  https://content.civicplus.com/api/assets/167ff...   2021-07-19   \n",
              "\n",
              "  Effective Date  Issue Category   Category Types  \n",
              "0     2021-07-29              NaN   Enviornmental  \n",
              "1     2021-07-29              NaN  Infastructure   \n",
              "2     2021-07-29              NaN       Education  \n",
              "3     2021-07-29              NaN          Zoning  \n",
              "4     2021-07-29              NaN         Safety   "
            ],
            "text/html": [
              "\n",
              "  <div id=\"df-6d726fd4-c89c-4c70-a5dc-2c5c1147ae04\" class=\"colab-df-container\">\n",
              "    <div>\n",
              "<style scoped>\n",
              "    .dataframe tbody tr th:only-of-type {\n",
              "        vertical-align: middle;\n",
              "    }\n",
              "\n",
              "    .dataframe tbody tr th {\n",
              "        vertical-align: top;\n",
              "    }\n",
              "\n",
              "    .dataframe thead th {\n",
              "        text-align: right;\n",
              "    }\n",
              "</style>\n",
              "<table border=\"1\" class=\"dataframe\">\n",
              "  <thead>\n",
              "    <tr style=\"text-align: right;\">\n",
              "      <th></th>\n",
              "      <th>Classification Number</th>\n",
              "      <th>Type</th>\n",
              "      <th>Description</th>\n",
              "      <th>Link</th>\n",
              "      <th>Passage Date</th>\n",
              "      <th>Effective Date</th>\n",
              "      <th>Issue Category</th>\n",
              "      <th>Category Types</th>\n",
              "    </tr>\n",
              "  </thead>\n",
              "  <tbody>\n",
              "    <tr>\n",
              "      <th>0</th>\n",
              "      <td>Order 1-21-22 (PDF)</td>\n",
              "      <td>Order</td>\n",
              "      <td>Order Granting a Thames Street Extension Licen...</td>\n",
              "      <td>https://content.civicplus.com/api/assets/95133...</td>\n",
              "      <td>2021-07-19</td>\n",
              "      <td>2021-07-29</td>\n",
              "      <td>NaN</td>\n",
              "      <td>Enviornmental</td>\n",
              "    </tr>\n",
              "    <tr>\n",
              "      <th>1</th>\n",
              "      <td>Order 2-21-22 (PDF)</td>\n",
              "      <td>Order</td>\n",
              "      <td>Order Accepting the Public Art Committee Fisca...</td>\n",
              "      <td>https://content.civicplus.com/api/assets/220d1...</td>\n",
              "      <td>2021-07-19</td>\n",
              "      <td>2021-07-29</td>\n",
              "      <td>NaN</td>\n",
              "      <td>Infastructure</td>\n",
              "    </tr>\n",
              "    <tr>\n",
              "      <th>2</th>\n",
              "      <td>Order 3-21-22 (PDF)</td>\n",
              "      <td>Order</td>\n",
              "      <td>Order Granting Municipal Officers’ Approval of...</td>\n",
              "      <td>https://content.civicplus.com/api/assets/84fbd...</td>\n",
              "      <td>2021-07-19</td>\n",
              "      <td>2021-07-29</td>\n",
              "      <td>NaN</td>\n",
              "      <td>Education</td>\n",
              "    </tr>\n",
              "    <tr>\n",
              "      <th>3</th>\n",
              "      <td>Order 4-21-22 (PDF)</td>\n",
              "      <td>Order</td>\n",
              "      <td>Order Granting Municipal Officers’ Approval of...</td>\n",
              "      <td>https://content.civicplus.com/api/assets/590d7...</td>\n",
              "      <td>2021-07-19</td>\n",
              "      <td>2021-07-29</td>\n",
              "      <td>NaN</td>\n",
              "      <td>Zoning</td>\n",
              "    </tr>\n",
              "    <tr>\n",
              "      <th>4</th>\n",
              "      <td>Order 5-21-22 (PDF)</td>\n",
              "      <td>Order</td>\n",
              "      <td>Order Granting Municipal Officers’ Approval of...</td>\n",
              "      <td>https://content.civicplus.com/api/assets/167ff...</td>\n",
              "      <td>2021-07-19</td>\n",
              "      <td>2021-07-29</td>\n",
              "      <td>NaN</td>\n",
              "      <td>Safety</td>\n",
              "    </tr>\n",
              "  </tbody>\n",
              "</table>\n",
              "</div>\n",
              "    <div class=\"colab-df-buttons\">\n",
              "\n",
              "  <div class=\"colab-df-container\">\n",
              "    <button class=\"colab-df-convert\" onclick=\"convertToInteractive('df-6d726fd4-c89c-4c70-a5dc-2c5c1147ae04')\"\n",
              "            title=\"Convert this dataframe to an interactive table.\"\n",
              "            style=\"display:none;\">\n",
              "\n",
              "  <svg xmlns=\"http://www.w3.org/2000/svg\" height=\"24px\" viewBox=\"0 -960 960 960\">\n",
              "    <path d=\"M120-120v-720h720v720H120Zm60-500h600v-160H180v160Zm220 220h160v-160H400v160Zm0 220h160v-160H400v160ZM180-400h160v-160H180v160Zm440 0h160v-160H620v160ZM180-180h160v-160H180v160Zm440 0h160v-160H620v160Z\"/>\n",
              "  </svg>\n",
              "    </button>\n",
              "\n",
              "  <style>\n",
              "    .colab-df-container {\n",
              "      display:flex;\n",
              "      gap: 12px;\n",
              "    }\n",
              "\n",
              "    .colab-df-convert {\n",
              "      background-color: #E8F0FE;\n",
              "      border: none;\n",
              "      border-radius: 50%;\n",
              "      cursor: pointer;\n",
              "      display: none;\n",
              "      fill: #1967D2;\n",
              "      height: 32px;\n",
              "      padding: 0 0 0 0;\n",
              "      width: 32px;\n",
              "    }\n",
              "\n",
              "    .colab-df-convert:hover {\n",
              "      background-color: #E2EBFA;\n",
              "      box-shadow: 0px 1px 2px rgba(60, 64, 67, 0.3), 0px 1px 3px 1px rgba(60, 64, 67, 0.15);\n",
              "      fill: #174EA6;\n",
              "    }\n",
              "\n",
              "    .colab-df-buttons div {\n",
              "      margin-bottom: 4px;\n",
              "    }\n",
              "\n",
              "    [theme=dark] .colab-df-convert {\n",
              "      background-color: #3B4455;\n",
              "      fill: #D2E3FC;\n",
              "    }\n",
              "\n",
              "    [theme=dark] .colab-df-convert:hover {\n",
              "      background-color: #434B5C;\n",
              "      box-shadow: 0px 1px 3px 1px rgba(0, 0, 0, 0.15);\n",
              "      filter: drop-shadow(0px 1px 2px rgba(0, 0, 0, 0.3));\n",
              "      fill: #FFFFFF;\n",
              "    }\n",
              "  </style>\n",
              "\n",
              "    <script>\n",
              "      const buttonEl =\n",
              "        document.querySelector('#df-6d726fd4-c89c-4c70-a5dc-2c5c1147ae04 button.colab-df-convert');\n",
              "      buttonEl.style.display =\n",
              "        google.colab.kernel.accessAllowed ? 'block' : 'none';\n",
              "\n",
              "      async function convertToInteractive(key) {\n",
              "        const element = document.querySelector('#df-6d726fd4-c89c-4c70-a5dc-2c5c1147ae04');\n",
              "        const dataTable =\n",
              "          await google.colab.kernel.invokeFunction('convertToInteractive',\n",
              "                                                    [key], {});\n",
              "        if (!dataTable) return;\n",
              "\n",
              "        const docLinkHtml = 'Like what you see? Visit the ' +\n",
              "          '<a target=\"_blank\" href=https://colab.research.google.com/notebooks/data_table.ipynb>data table notebook</a>'\n",
              "          + ' to learn more about interactive tables.';\n",
              "        element.innerHTML = '';\n",
              "        dataTable['output_type'] = 'display_data';\n",
              "        await google.colab.output.renderOutput(dataTable, element);\n",
              "        const docLink = document.createElement('div');\n",
              "        docLink.innerHTML = docLinkHtml;\n",
              "        element.appendChild(docLink);\n",
              "      }\n",
              "    </script>\n",
              "  </div>\n",
              "\n",
              "\n",
              "<div id=\"df-2b74f7df-ffb2-43d2-8071-9664eceb5b43\">\n",
              "  <button class=\"colab-df-quickchart\" onclick=\"quickchart('df-2b74f7df-ffb2-43d2-8071-9664eceb5b43')\"\n",
              "            title=\"Suggest charts\"\n",
              "            style=\"display:none;\">\n",
              "\n",
              "<svg xmlns=\"http://www.w3.org/2000/svg\" height=\"24px\"viewBox=\"0 0 24 24\"\n",
              "     width=\"24px\">\n",
              "    <g>\n",
              "        <path d=\"M19 3H5c-1.1 0-2 .9-2 2v14c0 1.1.9 2 2 2h14c1.1 0 2-.9 2-2V5c0-1.1-.9-2-2-2zM9 17H7v-7h2v7zm4 0h-2V7h2v10zm4 0h-2v-4h2v4z\"/>\n",
              "    </g>\n",
              "</svg>\n",
              "  </button>\n",
              "\n",
              "<style>\n",
              "  .colab-df-quickchart {\n",
              "      --bg-color: #E8F0FE;\n",
              "      --fill-color: #1967D2;\n",
              "      --hover-bg-color: #E2EBFA;\n",
              "      --hover-fill-color: #174EA6;\n",
              "      --disabled-fill-color: #AAA;\n",
              "      --disabled-bg-color: #DDD;\n",
              "  }\n",
              "\n",
              "  [theme=dark] .colab-df-quickchart {\n",
              "      --bg-color: #3B4455;\n",
              "      --fill-color: #D2E3FC;\n",
              "      --hover-bg-color: #434B5C;\n",
              "      --hover-fill-color: #FFFFFF;\n",
              "      --disabled-bg-color: #3B4455;\n",
              "      --disabled-fill-color: #666;\n",
              "  }\n",
              "\n",
              "  .colab-df-quickchart {\n",
              "    background-color: var(--bg-color);\n",
              "    border: none;\n",
              "    border-radius: 50%;\n",
              "    cursor: pointer;\n",
              "    display: none;\n",
              "    fill: var(--fill-color);\n",
              "    height: 32px;\n",
              "    padding: 0;\n",
              "    width: 32px;\n",
              "  }\n",
              "\n",
              "  .colab-df-quickchart:hover {\n",
              "    background-color: var(--hover-bg-color);\n",
              "    box-shadow: 0 1px 2px rgba(60, 64, 67, 0.3), 0 1px 3px 1px rgba(60, 64, 67, 0.15);\n",
              "    fill: var(--button-hover-fill-color);\n",
              "  }\n",
              "\n",
              "  .colab-df-quickchart-complete:disabled,\n",
              "  .colab-df-quickchart-complete:disabled:hover {\n",
              "    background-color: var(--disabled-bg-color);\n",
              "    fill: var(--disabled-fill-color);\n",
              "    box-shadow: none;\n",
              "  }\n",
              "\n",
              "  .colab-df-spinner {\n",
              "    border: 2px solid var(--fill-color);\n",
              "    border-color: transparent;\n",
              "    border-bottom-color: var(--fill-color);\n",
              "    animation:\n",
              "      spin 1s steps(1) infinite;\n",
              "  }\n",
              "\n",
              "  @keyframes spin {\n",
              "    0% {\n",
              "      border-color: transparent;\n",
              "      border-bottom-color: var(--fill-color);\n",
              "      border-left-color: var(--fill-color);\n",
              "    }\n",
              "    20% {\n",
              "      border-color: transparent;\n",
              "      border-left-color: var(--fill-color);\n",
              "      border-top-color: var(--fill-color);\n",
              "    }\n",
              "    30% {\n",
              "      border-color: transparent;\n",
              "      border-left-color: var(--fill-color);\n",
              "      border-top-color: var(--fill-color);\n",
              "      border-right-color: var(--fill-color);\n",
              "    }\n",
              "    40% {\n",
              "      border-color: transparent;\n",
              "      border-right-color: var(--fill-color);\n",
              "      border-top-color: var(--fill-color);\n",
              "    }\n",
              "    60% {\n",
              "      border-color: transparent;\n",
              "      border-right-color: var(--fill-color);\n",
              "    }\n",
              "    80% {\n",
              "      border-color: transparent;\n",
              "      border-right-color: var(--fill-color);\n",
              "      border-bottom-color: var(--fill-color);\n",
              "    }\n",
              "    90% {\n",
              "      border-color: transparent;\n",
              "      border-bottom-color: var(--fill-color);\n",
              "    }\n",
              "  }\n",
              "</style>\n",
              "\n",
              "  <script>\n",
              "    async function quickchart(key) {\n",
              "      const quickchartButtonEl =\n",
              "        document.querySelector('#' + key + ' button');\n",
              "      quickchartButtonEl.disabled = true;  // To prevent multiple clicks.\n",
              "      quickchartButtonEl.classList.add('colab-df-spinner');\n",
              "      try {\n",
              "        const charts = await google.colab.kernel.invokeFunction(\n",
              "            'suggestCharts', [key], {});\n",
              "      } catch (error) {\n",
              "        console.error('Error during call to suggestCharts:', error);\n",
              "      }\n",
              "      quickchartButtonEl.classList.remove('colab-df-spinner');\n",
              "      quickchartButtonEl.classList.add('colab-df-quickchart-complete');\n",
              "    }\n",
              "    (() => {\n",
              "      let quickchartButtonEl =\n",
              "        document.querySelector('#df-2b74f7df-ffb2-43d2-8071-9664eceb5b43 button');\n",
              "      quickchartButtonEl.style.display =\n",
              "        google.colab.kernel.accessAllowed ? 'block' : 'none';\n",
              "    })();\n",
              "  </script>\n",
              "</div>\n",
              "\n",
              "    </div>\n",
              "  </div>\n"
            ]
          },
          "metadata": {},
          "execution_count": 25
        }
      ]
    },
    {
      "cell_type": "code",
      "source": [
        "df2.columns"
      ],
      "metadata": {
        "colab": {
          "base_uri": "https://localhost:8080/"
        },
        "id": "brdeXMQXBuUl",
        "outputId": "34081bb8-159a-42c5-d137-f9a8883c7ed0"
      },
      "execution_count": null,
      "outputs": [
        {
          "output_type": "execute_result",
          "data": {
            "text/plain": [
              "Index(['Classification Number ', 'Type', 'Description ', 'Link',\n",
              "       'Passage Date', 'Effective Date', 'Issue Category ', 'Category Types'],\n",
              "      dtype='object')"
            ]
          },
          "metadata": {},
          "execution_count": 26
        }
      ]
    },
    {
      "cell_type": "markdown",
      "source": [
        "## 2. Download and Extract Text from 389 PDFs"
      ],
      "metadata": {
        "id": "Zgj06FrZ7_HZ"
      }
    },
    {
      "cell_type": "code",
      "source": [
        "import io\n",
        "import requests\n",
        "from PyPDF2 import PdfReader\n",
        "\n",
        "def download_pdf(url):\n",
        "    try:\n",
        "        response = requests.get(url)\n",
        "        response.raise_for_status()  # Check if the request was successful\n",
        "        return response.content\n",
        "    except requests.exceptions.RequestException as e:\n",
        "        print(f\"Error downloading PDF from {url}: {e}\")\n",
        "        return None\n",
        "\n",
        "def extract_text_from_pdf(pdf_content):\n",
        "    try:\n",
        "        pdf_reader = PdfReader(io.BytesIO(pdf_content))\n",
        "        text = ''\n",
        "        for page_num in range(len(pdf_reader.pages)):\n",
        "            page = pdf_reader.pages[page_num]\n",
        "            text += page.extract_text()\n",
        "        return text\n",
        "    except Exception as e:\n",
        "        print(f\"Error extracting text from PDF: {e}\")\n",
        "        return None\n",
        "\n",
        "def main():\n",
        "    pdf_texts = []\n",
        "\n",
        "    for index, row in df2.iterrows():\n",
        "        if len(row) < 4:\n",
        "            print(\"Row doesn't have enough columns. Skipping.\")\n",
        "            continue\n",
        "\n",
        "        pdf_url = row['Link'].strip()  # Assuming 'Link' is the column name\n",
        "\n",
        "        if not pdf_url:\n",
        "            print(\"Empty URL found. Skipping.\")\n",
        "            continue\n",
        "\n",
        "        pdf_content = download_pdf(pdf_url)\n",
        "\n",
        "        if pdf_content is not None:\n",
        "            text = extract_text_from_pdf(pdf_content)\n",
        "            pdf_texts.append(text)\n",
        "        else:\n",
        "            pdf_texts.append(None)\n",
        "\n",
        "    return pdf_texts\n",
        "\n",
        "# Assuming you have a DataFrame named df\n",
        "pdf_texts = main()\n",
        "\n",
        "# Now we have a list of extracted text from each PDF in pdf_texts"
      ],
      "metadata": {
        "id": "68slwu0u2yk0",
        "colab": {
          "base_uri": "https://localhost:8080/"
        },
        "outputId": "30b499c7-818c-4f81-fc4f-b69c7a8290b9"
      },
      "execution_count": null,
      "outputs": [
        {
          "output_type": "stream",
          "name": "stderr",
          "text": [
            "WARNING:PyPDF2._cmap:unknown widths : \n",
            "[0, IndirectObject(198, 0, 135602593745648)]\n",
            "WARNING:PyPDF2._cmap:unknown widths : \n",
            "[0, IndirectObject(193, 0, 135602593745648)]\n",
            "WARNING:PyPDF2._cmap:unknown widths : \n",
            "[0, IndirectObject(188, 0, 135602593745648)]\n",
            "WARNING:PyPDF2._cmap:unknown widths : \n",
            "[0, IndirectObject(178, 0, 135602593745648)]\n",
            "WARNING:PyPDF2._cmap:unknown widths : \n",
            "[0, IndirectObject(173, 0, 135602593745648)]\n",
            "WARNING:PyPDF2._cmap:unknown widths : \n",
            "[0, IndirectObject(167, 0, 135602593745648)]\n",
            "WARNING:PyPDF2._cmap:unknown widths : \n",
            "[0, IndirectObject(156, 0, 135602593745648)]\n",
            "WARNING:PyPDF2._cmap:unknown widths : \n",
            "[0, IndirectObject(151, 0, 135602593745648)]\n",
            "WARNING:PyPDF2._cmap:unknown widths : \n",
            "[0, IndirectObject(142, 0, 135602593745648)]\n",
            "WARNING:PyPDF2._cmap:unknown widths : \n",
            "[0, IndirectObject(816, 0, 135601589377712)]\n",
            "WARNING:PyPDF2._cmap:unknown widths : \n",
            "[0, IndirectObject(811, 0, 135601589377712)]\n",
            "WARNING:PyPDF2._cmap:unknown widths : \n",
            "[0, IndirectObject(806, 0, 135601589377712)]\n",
            "WARNING:PyPDF2._cmap:unknown widths : \n",
            "[0, IndirectObject(801, 0, 135601589377712)]\n",
            "WARNING:PyPDF2._cmap:unknown widths : \n",
            "[0, IndirectObject(796, 0, 135601589377712)]\n",
            "WARNING:PyPDF2._cmap:unknown widths : \n",
            "[0, IndirectObject(791, 0, 135601589377712)]\n",
            "WARNING:PyPDF2._cmap:unknown widths : \n",
            "[0, IndirectObject(786, 0, 135601589377712)]\n",
            "WARNING:PyPDF2._cmap:unknown widths : \n",
            "[0, IndirectObject(781, 0, 135601589377712)]\n",
            "WARNING:PyPDF2._cmap:unknown widths : \n",
            "[0, IndirectObject(776, 0, 135601589377712)]\n",
            "WARNING:PyPDF2._cmap:unknown widths : \n",
            "[0, IndirectObject(417, 0, 135601589377712)]\n",
            "WARNING:PyPDF2._cmap:unknown widths : \n",
            "[0, IndirectObject(412, 0, 135601589377712)]\n",
            "WARNING:PyPDF2._cmap:unknown widths : \n",
            "[0, IndirectObject(407, 0, 135601589377712)]\n",
            "WARNING:PyPDF2._cmap:unknown widths : \n",
            "[0, IndirectObject(402, 0, 135601589377712)]\n",
            "WARNING:PyPDF2._cmap:unknown widths : \n",
            "[0, IndirectObject(397, 0, 135601589377712)]\n",
            "WARNING:PyPDF2._cmap:unknown widths : \n",
            "[0, IndirectObject(392, 0, 135601589377712)]\n",
            "WARNING:PyPDF2._cmap:unknown widths : \n",
            "[0, IndirectObject(387, 0, 135601589377712)]\n",
            "WARNING:PyPDF2._cmap:unknown widths : \n",
            "[0, IndirectObject(193, 0, 135601628129184)]\n",
            "WARNING:PyPDF2._cmap:unknown widths : \n",
            "[0, IndirectObject(188, 0, 135601628129184)]\n",
            "WARNING:PyPDF2._cmap:unknown widths : \n",
            "[0, IndirectObject(183, 0, 135601628129184)]\n",
            "WARNING:PyPDF2._cmap:unknown widths : \n",
            "[0, IndirectObject(178, 0, 135601628129184)]\n",
            "WARNING:PyPDF2._cmap:unknown widths : \n",
            "[0, IndirectObject(173, 0, 135601628129184)]\n",
            "WARNING:PyPDF2._cmap:unknown widths : \n",
            "[0, IndirectObject(168, 0, 135601628129184)]\n",
            "WARNING:PyPDF2._cmap:unknown widths : \n",
            "[0, IndirectObject(163, 0, 135601628129184)]\n",
            "WARNING:PyPDF2._cmap:unknown widths : \n",
            "[0, IndirectObject(158, 0, 135601628129184)]\n",
            "WARNING:PyPDF2._cmap:unknown widths : \n",
            "[0, IndirectObject(153, 0, 135601628129184)]\n",
            "WARNING:PyPDF2._cmap:unknown widths : \n",
            "[0, IndirectObject(141, 0, 135601628129184)]\n",
            "WARNING:PyPDF2._cmap:unknown widths : \n",
            "[0, IndirectObject(107, 0, 135601628129184)]\n",
            "WARNING:PyPDF2._cmap:unknown widths : \n",
            "[0, IndirectObject(132, 0, 135601628129184)]\n",
            "WARNING:PyPDF2._cmap:unknown widths : \n",
            "[0, IndirectObject(127, 0, 135601628129184)]\n",
            "WARNING:PyPDF2._cmap:unknown widths : \n",
            "[0, IndirectObject(122, 0, 135601628129184)]\n",
            "WARNING:PyPDF2._cmap:unknown widths : \n",
            "[0, IndirectObject(117, 0, 135601628129184)]\n",
            "WARNING:PyPDF2._cmap:unknown widths : \n",
            "[0, IndirectObject(112, 0, 135601628129184)]\n",
            "WARNING:PyPDF2._cmap:unknown widths : \n",
            "[0, IndirectObject(107, 0, 135601628129184)]\n"
          ]
        }
      ]
    },
    {
      "cell_type": "markdown",
      "source": [
        "## 3.Data Procession :Tokenize and Clean the Text"
      ],
      "metadata": {
        "id": "-z5cCl2S8RgR"
      }
    },
    {
      "cell_type": "code",
      "source": [
        "pip install nltk"
      ],
      "metadata": {
        "colab": {
          "base_uri": "https://localhost:8080/"
        },
        "id": "mtevqff9ybvF",
        "outputId": "5a2e0e13-7acd-42d6-978c-4dbed336f21c"
      },
      "execution_count": null,
      "outputs": [
        {
          "output_type": "stream",
          "name": "stdout",
          "text": [
            "Requirement already satisfied: nltk in /usr/local/lib/python3.10/dist-packages (3.8.1)\n",
            "Requirement already satisfied: click in /usr/local/lib/python3.10/dist-packages (from nltk) (8.1.7)\n",
            "Requirement already satisfied: joblib in /usr/local/lib/python3.10/dist-packages (from nltk) (1.3.2)\n",
            "Requirement already satisfied: regex>=2021.8.3 in /usr/local/lib/python3.10/dist-packages (from nltk) (2023.6.3)\n",
            "Requirement already satisfied: tqdm in /usr/local/lib/python3.10/dist-packages (from nltk) (4.66.1)\n"
          ]
        }
      ]
    },
    {
      "cell_type": "code",
      "source": [
        "nltk.download('stopwords')"
      ],
      "metadata": {
        "colab": {
          "base_uri": "https://localhost:8080/"
        },
        "id": "KE0F8y6DqsY2",
        "outputId": "627d0a46-50cf-4726-bd4d-be1476c96b98"
      },
      "execution_count": null,
      "outputs": [
        {
          "output_type": "stream",
          "name": "stderr",
          "text": [
            "[nltk_data] Downloading package stopwords to /root/nltk_data...\n",
            "[nltk_data]   Unzipping corpora/stopwords.zip.\n"
          ]
        },
        {
          "output_type": "execute_result",
          "data": {
            "text/plain": [
              "True"
            ]
          },
          "metadata": {},
          "execution_count": 30
        }
      ]
    },
    {
      "cell_type": "code",
      "source": [
        "# Define a function to clean the text\n",
        "def clean_text(text):\n",
        "    # Tokenize the text\n",
        "    tokens = nltk.word_tokenize(text)\n",
        "\n",
        "    # Remove punctuation and words with digits\n",
        "    tokens = [word.lower() for word in tokens if word not in string.punctuation and not any(char.isdigit() for char in word)]\n",
        "\n",
        "    # Remove stop words\n",
        "    stop_words = set(stopwords.words(\"english\"))\n",
        "    tokens = [word for word in tokens if word not in stop_words]\n",
        "\n",
        "    # Remove single letters and additional punctuation marks\n",
        "    tokens = [word for word in tokens if len(word) > 1]  # Remove single letters\n",
        "    tokens = [word for word in tokens if word.isalnum()]  # Remove non-alphanumeric tokens\n",
        "\n",
        "    return tokens\n",
        "\n",
        "cleaned_texts = []\n",
        "\n",
        "for text in pdf_texts:\n",
        "    cleaned_text = clean_text(text)\n",
        "    cleaned_texts.append(cleaned_text)"
      ],
      "metadata": {
        "id": "JhnIGA_r2x7d"
      },
      "execution_count": null,
      "outputs": []
    },
    {
      "cell_type": "markdown",
      "source": [
        "## 4.Fit K-means clustering and  LDA model\n"
      ],
      "metadata": {
        "id": "S5VihpGFZOND"
      }
    },
    {
      "cell_type": "markdown",
      "source": [
        "### **4.1 Model1: K-means ((Get a dateframe df_cluster))**"
      ],
      "metadata": {
        "id": "VlXLee7e-PgP"
      }
    },
    {
      "cell_type": "code",
      "source": [
        "# Flatten the list of lists to a single list of strings\n",
        "cleaned_texts_flat = [' '.join(text) for text in cleaned_texts]\n",
        "\n",
        "# Use TfidfVectorizer to transform the cleaned texts\n",
        "tfidf_vectorizer = TfidfVectorizer(stop_words='english')\n",
        "tfidf_matrix = tfidf_vectorizer.fit_transform(cleaned_texts_flat)"
      ],
      "metadata": {
        "id": "KSkrGXwVvHZh"
      },
      "execution_count": null,
      "outputs": []
    },
    {
      "cell_type": "markdown",
      "source": [
        "#### 4.1.1 Using elbow method to find optimal K value"
      ],
      "metadata": {
        "id": "tZlOshF-6tQo"
      }
    },
    {
      "cell_type": "code",
      "source": [
        "from sklearn.cluster import KMeans\n",
        "import matplotlib.pyplot as plt\n",
        "\n",
        "# Perform KMeans with different values of K\n",
        "inertias = []\n",
        "for k in range(1, 25):\n",
        "    kmeans = KMeans(n_clusters=k)\n",
        "    kmeans.fit(tfidf_matrix)\n",
        "    inertias.append(kmeans.inertia_)\n",
        "\n",
        "# Plot the elbow method\n",
        "plt.plot(range(1, 25), inertias, marker='o')\n",
        "plt.title('Elbow Method for Optimal K')\n",
        "plt.xlabel('Number of clusters')\n",
        "plt.ylabel('Inertia')\n",
        "plt.show()\n"
      ],
      "metadata": {
        "colab": {
          "base_uri": "https://localhost:8080/",
          "height": 527
        },
        "id": "DdR4fbT02bc7",
        "outputId": "1d833813-dd4c-405b-f3bd-a1e3501f6b74"
      },
      "execution_count": null,
      "outputs": [
        {
          "output_type": "stream",
          "name": "stderr",
          "text": [
            "/usr/local/lib/python3.10/dist-packages/sklearn/cluster/_kmeans.py:870: FutureWarning: The default value of `n_init` will change from 10 to 'auto' in 1.4. Set the value of `n_init` explicitly to suppress the warning\n",
            "  warnings.warn(\n"
          ]
        },
        {
          "output_type": "display_data",
          "data": {
            "text/plain": [
              "<Figure size 640x480 with 1 Axes>"
            ],
            "image/png": "[encoded data removed]"
          },
          "metadata": {}
        }
      ]
    },
    {
      "cell_type": "markdown",
      "source": [
        "#### 4.1.2 Apply K-Means clustering model and Visualize the distribution"
      ],
      "metadata": {
        "id": "pku7FoTG7VQO"
      }
    },
    {
      "cell_type": "code",
      "source": [
        "from sklearn.cluster import KMeans\n",
        "from sklearn.metrics import silhouette_score\n",
        "import pandas as pd\n",
        "\n",
        "# optimal K as 12 from the Elbow Method\n",
        "num_clusters = 12\n",
        "\n",
        "# Assume tfidf_matrix is defined before this point\n",
        "\n",
        "# Apply K-Means clustering\n",
        "kmeans = KMeans(n_clusters=num_clusters, init='k-means++', max_iter=300, random_state=42)\n",
        "cluster_labels = kmeans.fit_predict(tfidf_matrix)\n",
        "\n",
        "# Evaluate clustering performance using Silhouette Score\n",
        "silhouette_avg = silhouette_score(tfidf_matrix, cluster_labels)\n",
        "print(f\"Silhouette Score: {silhouette_avg}\")\n",
        "\n",
        "# Create a DataFrame to store cluster labels\n",
        "cluster_pdf = pd.DataFrame({\n",
        "    'Document': [str(i + 1) for i in range(len(cluster_labels))],  # Updated to show only the document numbers\n",
        "    'Cluster': [label + 1 for label in cluster_labels]\n",
        "})\n",
        "\n",
        "# Print the resulting DataFrame\n",
        "print(\"\\nDataFrame cluster_pdf:\")\n",
        "print(cluster_pdf)\n",
        "\n",
        "# Create a DataFrame with cluster distribution and percentage\n",
        "cluster_distribution_df = pd.DataFrame({\n",
        "    'Cluster': range(1, num_clusters + 1),\n",
        "    'Count': pd.Series(cluster_labels).value_counts().sort_index().values,\n",
        "    'Percentage': pd.Series(cluster_labels).value_counts(normalize=True).sort_index().values * 100\n",
        "})\n",
        "\n",
        "# Print the DataFrame with cluster distribution and percentage\n",
        "print(\"Cluster Distribution:\")\n",
        "print(cluster_distribution_df)\n",
        "\n",
        "# Plot a bar chart for the cluster distribution\n",
        "plt.figure(figsize=(10, 6))\n",
        "plt.bar(cluster_distribution_df['Cluster'], cluster_distribution_df['Count'], color='skyblue')\n",
        "plt.title('Cluster Distribution')\n",
        "plt.xlabel('Cluster')\n",
        "plt.ylabel('Count')\n",
        "plt.show()\n"
      ],
      "metadata": {
        "colab": {
          "base_uri": "https://localhost:8080/",
          "height": 1000
        },
        "id": "cMFzW660vsrk",
        "outputId": "b866ace6-552a-49f8-d1f3-46be549031ff"
      },
      "execution_count": null,
      "outputs": [
        {
          "output_type": "stream",
          "name": "stderr",
          "text": [
            "/usr/local/lib/python3.10/dist-packages/sklearn/cluster/_kmeans.py:870: FutureWarning: The default value of `n_init` will change from 10 to 'auto' in 1.4. Set the value of `n_init` explicitly to suppress the warning\n",
            "  warnings.warn(\n"
          ]
        },
        {
          "output_type": "stream",
          "name": "stdout",
          "text": [
            "Silhouette Score: 0.06790663788087366\n",
            "\n",
            "DataFrame cluster_pdf:\n",
            "    Document  Cluster\n",
            "0          1        8\n",
            "1          2        2\n",
            "2          3        1\n",
            "3          4        1\n",
            "4          5        1\n",
            "..       ...      ...\n",
            "384      385        8\n",
            "385      386        3\n",
            "386      387        2\n",
            "387      388       12\n",
            "388      389        7\n",
            "\n",
            "[389 rows x 2 columns]\n",
            "Cluster Distribution:\n",
            "    Cluster  Count  Percentage\n",
            "0         1     44   11.311054\n",
            "1         2    114   29.305913\n",
            "2         3     49   12.596401\n",
            "3         4     23    5.912596\n",
            "4         5      8    2.056555\n",
            "5         6     25    6.426735\n",
            "6         7     10    2.570694\n",
            "7         8     39   10.025707\n",
            "8         9     20    5.141388\n",
            "9        10     15    3.856041\n",
            "10       11     14    3.598972\n",
            "11       12     28    7.197943\n"
          ]
        },
        {
          "output_type": "display_data",
          "data": {
            "text/plain": [
              "<Figure size 1000x600 with 1 Axes>"
            ],
            "image/png": "[encoded data removed]"
          },
          "metadata": {}
        }
      ]
    },
    {
      "cell_type": "markdown",
      "source": [
        "#### 4.1.3 Find the key words for each cluster"
      ],
      "metadata": {
        "id": "a3XDffXk0VPl"
      }
    },
    {
      "cell_type": "code",
      "source": [
        "pip install pyspellchecker"
      ],
      "metadata": {
        "colab": {
          "base_uri": "https://localhost:8080/"
        },
        "id": "MMdO950lsTUt",
        "outputId": "b5e2c222-8781-43be-c427-0bf336d4621a"
      },
      "execution_count": null,
      "outputs": [
        {
          "output_type": "stream",
          "name": "stdout",
          "text": [
            "Requirement already satisfied: pyspellchecker in /usr/local/lib/python3.10/dist-packages (0.7.2)\n"
          ]
        }
      ]
    },
    {
      "cell_type": "code",
      "source": [
        "from sklearn.feature_extraction.text import TfidfVectorizer\n",
        "from sklearn.metrics.pairwise import cosine_similarity\n",
        "from spellchecker import SpellChecker\n",
        "\n",
        "\n",
        "# Number of top key words to extract for each cluster\n",
        "top_key_words_count = 15\n",
        "\n",
        "# Get the cluster centers and sort them by the frequency of terms\n",
        "cluster_centers = kmeans.cluster_centers_.argsort()[:, ::-1]\n",
        "\n",
        "# Get feature names from the vectorizer\n",
        "cluster_keywords = tfidf_vectorizer.get_feature_names_out()\n",
        "\n",
        "# Create a list to store DataFrames for each cluster\n",
        "dfs = []\n",
        "\n",
        "for i in range(num_clusters):\n",
        "    # Get the top N cluster keywords for each cluster\n",
        "    top_cluster_keywords = [cluster_keywords[index] for index in cluster_centers[i, :top_key_words_count]]\n",
        "\n",
        "    # Create a DataFrame for each cluster\n",
        "    cluster_df = pd.DataFrame({'Cluster': [i + 1], 'Cluster Keywords': [', '.join(top_cluster_keywords)]})\n",
        "\n",
        "    # Append the DataFrame to the list\n",
        "    dfs.append(cluster_df)\n",
        "\n",
        "# Concatenate all DataFrames in the list into a single DataFrame\n",
        "cluster_keywords_df = pd.concat(dfs, ignore_index=True)\n",
        "\n",
        "# Print the DataFrame with cluster keywords for each cluster\n",
        "print(\"\\nCluster Keywords for Each Cluster:\")\n",
        "print(cluster_keywords_df)"
      ],
      "metadata": {
        "colab": {
          "base_uri": "https://localhost:8080/"
        },
        "id": "oIZJxxPQsb5w",
        "outputId": "9bd66858-6136-43ca-ed9f-0619e4e7ef13"
      },
      "execution_count": null,
      "outputs": [
        {
          "output_type": "stream",
          "name": "stdout",
          "text": [
            "\n",
            "Cluster Keywords for Each Cluster:\n",
            "    Cluster                                   Cluster Keywords\n",
            "0         1  dba, passed, granting, kathleen, application, ...\n",
            "1         2  city, portland, order, council, ordered, effec...\n",
            "2         3  shall, city, employee, agreement, employees, y...\n",
            "3         4  festival, street, shall, park, june, area, cit...\n",
            "4         5  transfer, defendant, rem, maine, criminal, cur...\n",
            "5         6  housing, district, city, developer, developmen...\n",
            "6         7  map, zoning, city, amendment, amended, urban, ...\n",
            "7         8  city, grant, order, ordered, documents, approp...\n",
            "8         9  project, mainedot, agreement, shall, municipal...\n",
            "9        10  donation, parks, facilities, recreation, city,...\n",
            "10       11  easement, deed, grantor, said, land, feet, mai...\n",
            "11       12  fiscal, year, school, city, budget, education,...\n"
          ]
        }
      ]
    },
    {
      "cell_type": "markdown",
      "source": [
        "####4.1.4 Assign Clusters to Interest Categories"
      ],
      "metadata": {
        "id": "-xEJdGXX9cjN"
      }
    },
    {
      "cell_type": "code",
      "source": [
        "from sklearn.feature_extraction.text import TfidfVectorizer\n",
        "from sklearn.metrics.pairwise import cosine_similarity\n",
        "from spellchecker import SpellChecker\n",
        "\n",
        "# Predefined interests with keywords\n",
        "interests = {\n",
        "    'Environmental': {'park', 'lanes', 'docket', 'urban', 'tent', 'parks', 'development', 'land', 'cumberland', 'easement', 'street', 'Lac', 'Municipal'},\n",
        "    'Safety': {'leave', 'street', 'criminal', 'defendant', 'legislative', 'transfer', 'body', 'currency', 'downtown', 'emergency', 'id', 'dna', 'recorded', 'street', 'debt', 'Effective', 'Approval', 'Officers'},\n",
        "    'Education': {'class', 'funding',' fund','file','appropriated','appropriating', 'donation','adult', 'donations', 'youth','fees', 'director', 'authorized','book','page', 'fiscal', 'year', 'school', 'budget', 'education', 'appropriation','public','funding','kindergarten', 'schools','committee'},\n",
        "    'Infrastructure': {'park', 'marathon', 'food', 'program', 'affordable', 'rent', 'housing', 'transportation', 'costs', 'facilities', 'recreation', 'service', 'services', 'deed', 'grant', 'feet', 'hundredths', 'deeds', 'project', 'plan', 'agreement', 'bonds'},\n",
        "    'Zoning': {'festival', 'plan', 'vendors', 'parking', 'square', 'district', 'rezoning', 'overlay', 'zone', 'zoning', 'residential', 'planning', 'developer', 'rental', 'Map', 'Amended', 'Assembled', 'Ordained', 'Reference', 'Incorporated', 'Height', 'Council'}\n",
        "}\n",
        "\n",
        "# Assuming you have already created cluster_keywords_df\n",
        "\n",
        "# Keywords for each cluster from the DataFrame\n",
        "clusters_text = cluster_keywords_df['Cluster Keywords'].tolist()\n",
        "\n",
        "# Vectorize using TF-IDF\n",
        "vectorizer = TfidfVectorizer()\n",
        "interests_text = [' '.join(words) for words in interests.values()]\n",
        "\n",
        "# Calculate cosine similarity\n",
        "similarity_matrix = cosine_similarity(vectorizer.fit_transform(clusters_text), vectorizer.transform(interests_text))\n",
        "\n",
        "# Print the similarity scores\n",
        "print(\"\\nSimilarity Scores:\")\n",
        "for cluster_index, sim_row in enumerate(similarity_matrix):\n",
        "    print(f\"Cluster {cluster_index + 1}:\", \", \".join(f\"{category}: {score:.4f}\" for category, score in zip(interests.keys(), sim_row)))\n"
      ],
      "metadata": {
        "colab": {
          "base_uri": "https://localhost:8080/"
        },
        "id": "oszZ5igatv7o",
        "outputId": "5156a07d-38a5-426e-84a3-eff8899fa265"
      },
      "execution_count": null,
      "outputs": [
        {
          "output_type": "stream",
          "name": "stdout",
          "text": [
            "\n",
            "Similarity Scores:\n",
            "Cluster 1: Environmental: 0.1426, Safety: 0.1846, Education: 0.0651, Infrastructure: 0.0000, Zoning: 0.0000\n",
            "Cluster 2: Environmental: 0.0000, Safety: 0.0818, Education: 0.0668, Infrastructure: 0.0000, Zoning: 0.0696\n",
            "Cluster 3: Environmental: 0.0000, Safety: 0.0813, Education: 0.0000, Infrastructure: 0.1868, Zoning: 0.0692\n",
            "Cluster 4: Environmental: 0.2490, Safety: 0.0491, Education: 0.0000, Infrastructure: 0.1432, Zoning: 0.2177\n",
            "Cluster 5: Environmental: 0.0918, Safety: 0.5453, Education: 0.0000, Infrastructure: 0.0000, Zoning: 0.0000\n",
            "Cluster 6: Environmental: 0.0894, Safety: 0.0000, Education: 0.0475, Infrastructure: 0.3136, Zoning: 0.1342\n",
            "Cluster 7: Environmental: 0.0885, Safety: 0.0000, Education: 0.0637, Infrastructure: 0.0000, Zoning: 0.6638\n",
            "Cluster 8: Environmental: 0.0000, Safety: 0.0846, Education: 0.0510, Infrastructure: 0.0710, Zoning: 0.0000\n",
            "Cluster 9: Environmental: 0.0000, Safety: 0.0000, Education: 0.0000, Infrastructure: 0.3043, Zoning: 0.0000\n",
            "Cluster 10: Environmental: 0.0938, Safety: 0.0000, Education: 0.3200, Infrastructure: 0.1389, Zoning: 0.0000\n",
            "Cluster 11: Environmental: 0.2339, Safety: 0.1262, Education: 0.0654, Infrastructure: 0.1345, Zoning: 0.0000\n",
            "Cluster 12: Environmental: 0.0000, Safety: 0.0000, Education: 0.6344, Infrastructure: 0.0000, Zoning: 0.0000\n"
          ]
        }
      ]
    },
    {
      "cell_type": "code",
      "source": [
        "# Assign clusters to interest categories based on highest similarity\n",
        "assigned_clusters = {}\n",
        "for cluster_index, sim_row in enumerate(similarity_matrix):\n",
        "    assigned_category = max(range(len(interests)), key=lambda x: sim_row[x])\n",
        "    assigned_clusters[cluster_index + 1] = list(interests.keys())[assigned_category]\n",
        "\n",
        "# Create DataFrame\n",
        "category_df = pd.DataFrame(list(assigned_clusters.items()), columns=['Cluster', 'Interest Category'])\n",
        "\n",
        "# Print the DataFrame\n",
        "print(\"\\nAssigned Categories:\")\n",
        "print(category_df)"
      ],
      "metadata": {
        "colab": {
          "base_uri": "https://localhost:8080/"
        },
        "id": "sdP1Tc8Xu0FL",
        "outputId": "a883be79-94a2-436d-b3e5-1f9c944fc873"
      },
      "execution_count": null,
      "outputs": [
        {
          "output_type": "stream",
          "name": "stdout",
          "text": [
            "\n",
            "Assigned Categories:\n",
            "    Cluster Interest Category\n",
            "0         1            Safety\n",
            "1         2            Safety\n",
            "2         3    Infrastructure\n",
            "3         4     Environmental\n",
            "4         5            Safety\n",
            "5         6    Infrastructure\n",
            "6         7            Zoning\n",
            "7         8            Safety\n",
            "8         9    Infrastructure\n",
            "9        10         Education\n",
            "10       11     Environmental\n",
            "11       12         Education\n"
          ]
        }
      ]
    },
    {
      "cell_type": "markdown",
      "source": [
        "#### 4.1.5 Merge and Get Documents' Interest Category"
      ],
      "metadata": {
        "id": "JlRyCV7hQj72"
      }
    },
    {
      "cell_type": "code",
      "source": [
        "# Merge DataFrames on the 'cluster' column\n",
        "df_cluster = pd.merge(cluster_pdf, category_df, on='Cluster', how='inner')\n",
        "\n",
        "# Print the resulting DataFrame\n",
        "print(\"\\nDataFrame df_cluster:\")\n",
        "print(df_cluster)"
      ],
      "metadata": {
        "colab": {
          "base_uri": "https://localhost:8080/"
        },
        "id": "tV-tNSlvuP9z",
        "outputId": "0d13cda4-2adb-487b-d71b-55d265f83c52"
      },
      "execution_count": null,
      "outputs": [
        {
          "output_type": "stream",
          "name": "stdout",
          "text": [
            "\n",
            "DataFrame df_cluster:\n",
            "    Document  Cluster Interest Category\n",
            "0          1        8            Safety\n",
            "1          8        8            Safety\n",
            "2         19        8            Safety\n",
            "3         33        8            Safety\n",
            "4         45        8            Safety\n",
            "..       ...      ...               ...\n",
            "384      324        6    Infrastructure\n",
            "385      325        6    Infrastructure\n",
            "386      366        6    Infrastructure\n",
            "387      372        6    Infrastructure\n",
            "388      373        6    Infrastructure\n",
            "\n",
            "[389 rows x 3 columns]\n"
          ]
        }
      ]
    },
    {
      "cell_type": "code",
      "source": [
        "# Assuming 'DocumentNumber' is the column based on which you want to sort the DataFrame\n",
        "df_cluster_sorted = df_cluster.sort_values(by='Document', ascending=True)\n",
        "\n",
        "# Display the first 38 rows of the sorted DataFrame\n",
        "print(\"\\nDataFrame df_cluster_sorted:\")\n",
        "print(df_cluster_sorted.head(38))"
      ],
      "metadata": {
        "colab": {
          "base_uri": "https://localhost:8080/"
        },
        "id": "zQdNKH-L1b6n",
        "outputId": "a8496f54-cfcc-4605-8870-dd2e1b06599f"
      },
      "execution_count": null,
      "outputs": [
        {
          "output_type": "stream",
          "name": "stdout",
          "text": [
            "\n",
            "DataFrame df_cluster_sorted:\n",
            "     Document  Cluster        Interest\n",
            "0           1        8          Safety\n",
            "39          2        2          Safety\n",
            "153         3        1          Safety\n",
            "154         4        1          Safety\n",
            "155         5        1          Safety\n",
            "156         6        1          Safety\n",
            "197         7        9  Infrastructure\n",
            "1           8        8          Safety\n",
            "198         9        9  Infrastructure\n",
            "217        10       12       Education\n",
            "218        11       12       Education\n",
            "219        12       12       Education\n",
            "220        13       12       Education\n",
            "245        14        4   Environmental\n",
            "40         15        2          Safety\n",
            "41         16        2          Safety\n",
            "42         17        2          Safety\n",
            "43         18        2          Safety\n",
            "2          19        8          Safety\n",
            "268        20        7          Zoning\n",
            "269        21        7          Zoning\n",
            "44         22        2          Safety\n",
            "278        23        3  Infrastructure\n",
            "246        24        4   Environmental\n",
            "45         25        2          Safety\n",
            "199        26        9  Infrastructure\n",
            "157        27        1          Safety\n",
            "158        28        1          Safety\n",
            "159        29        1          Safety\n",
            "160        30        1          Safety\n",
            "161        31        1          Safety\n",
            "162        32        1          Safety\n",
            "3          33        8          Safety\n",
            "279        34        3  Infrastructure\n",
            "46         35        2          Safety\n",
            "327        36        5          Safety\n",
            "247        37        4   Environmental\n",
            "163        38        1          Safety\n"
          ]
        }
      ]
    },
    {
      "cell_type": "markdown",
      "source": [
        "### **4.2 Model2 :LDA (Get a dateframe df_lda)**\n",
        "The LDA model will give a set of topics, where each topic is represented as a distribution over words. Inspect the topics and their top words to interpret the categories"
      ],
      "metadata": {
        "id": "WP3E9YdU-UYW"
      }
    },
    {
      "cell_type": "markdown",
      "source": [
        "#### 4.2.1 Finding Optimal Number of Topics for LDA"
      ],
      "metadata": {
        "id": "n9ulxzEFtjbt"
      }
    },
    {
      "cell_type": "code",
      "source": [
        "from gensim.models import CoherenceModel\n",
        "from gensim.corpora import Dictionary\n",
        "from gensim.models import LdaModel\n",
        "import matplotlib.pyplot as plt\n",
        "\n",
        "#'cleaned_texts' is a list of tokenized texts\n",
        "dictionary = Dictionary(cleaned_texts)\n",
        "corpus = [dictionary.doc2bow(text) for text in cleaned_texts]\n",
        "\n",
        "# Calculate coherence scores to find a optimal number of topics\n",
        "coherence_scores = []\n",
        "for num_topics in range(2, 12):  # You can adjust the range\n",
        "    lda_model = LdaModel(corpus, num_topics=num_topics, id2word=dictionary, passes=10)  # Increase the 'passes' parameter\n",
        "    coherence_model = CoherenceModel(model=lda_model, texts=cleaned_texts, dictionary=dictionary, coherence='c_v')\n",
        "    coherence_score = coherence_model.get_coherence()\n",
        "    coherence_scores.append(coherence_score)\n",
        "\n",
        "# Plot the coherence scores\n",
        "plt.plot(range(2, 12), coherence_scores)\n",
        "plt.xlabel('Number of Topics')\n",
        "plt.ylabel('Coherence Score')\n",
        "plt.title('Coherence Score vs. Number of Topics')\n",
        "plt.show()\n",
        "\n"
      ],
      "metadata": {
        "colab": {
          "base_uri": "https://localhost:8080/",
          "height": 472
        },
        "id": "9cXyHuDwSIx6",
        "outputId": "dd5074f0-8dc4-4eb1-ce40-adbfe0a1b43a"
      },
      "execution_count": null,
      "outputs": [
        {
          "output_type": "display_data",
          "data": {
            "text/plain": [
              "<Figure size 640x480 with 1 Axes>"
            ],
            "image/png": "[encoded data removed]"
          },
          "metadata": {}
        }
      ]
    },
    {
      "cell_type": "markdown",
      "source": [
        "#### **Inference**: According to the coherrence score plot , 8 is the optimal topic number"
      ],
      "metadata": {
        "id": "kBnxqqpNPFda"
      }
    },
    {
      "cell_type": "markdown",
      "source": [
        "#### 4.2.2 Train an LDA model and Assign Documents to A Topic"
      ],
      "metadata": {
        "id": "AV5kxh24Q71Z"
      }
    },
    {
      "cell_type": "code",
      "source": [
        "from gensim.models import CoherenceModel\n",
        "from gensim.corpora import Dictionary\n",
        "from gensim.models import LdaModel\n",
        "import matplotlib.pyplot as plt\n",
        "from sklearn.decomposition import LatentDirichletAllocation\n",
        "\n",
        "# train an LDA model with 8 topics\n",
        "n_topics = 8\n",
        "\n",
        "# Instantiate and fit the LDA model\n",
        "lda = LatentDirichletAllocation(n_components=n_topics, random_state=42)\n",
        "lda.fit(tfidf_matrix)\n",
        "\n",
        "# Transform the TF-IDF matrix to get the topic distribution for each document\n",
        "lda_topic_matrix = lda.transform(tfidf_matrix)\n",
        "\n",
        "# Assign each document to the topic with the highest probability\n",
        "assigned_topics = lda_topic_matrix.argmax(axis=1) + 1  # Adding 1 to make topics start from 1\n",
        "\n",
        "# Create a DataFrame to store document-topic assignments\n",
        "df_topic = pd.DataFrame({\n",
        "    'Document': [str(i + 1) for i in range(len(assigned_topics))],  # Document numbers\n",
        "    'Topic': assigned_topics\n",
        "})\n",
        "\n",
        "# Print the resulting DataFrame\n",
        "print(\"\\nDataFrame topic_assignment_df:\")\n",
        "print(df_topic)"
      ],
      "metadata": {
        "colab": {
          "base_uri": "https://localhost:8080/"
        },
        "id": "AM1c0bVs175L",
        "outputId": "bac1069a-7e31-4fed-84fb-46326f2c822a"
      },
      "execution_count": null,
      "outputs": [
        {
          "output_type": "stream",
          "name": "stdout",
          "text": [
            "\n",
            "DataFrame topic_assignment_df:\n",
            "    Document  Topic\n",
            "0          1      3\n",
            "1          2      3\n",
            "2          3      2\n",
            "3          4      6\n",
            "4          5      2\n",
            "..       ...    ...\n",
            "384      385      3\n",
            "385      386      3\n",
            "386      387      1\n",
            "387      388      3\n",
            "388      389      3\n",
            "\n",
            "[389 rows x 2 columns]\n"
          ]
        }
      ]
    },
    {
      "cell_type": "code",
      "source": [
        "import matplotlib.pyplot as plt\n",
        "\n",
        "# Count the occurrences of each topic\n",
        "topic_distribution = df_topic['Topic'].value_counts()\n",
        "\n",
        "# Plot the bar chart\n",
        "plt.bar(topic_distribution.index, topic_distribution.values, color='skyblue')\n",
        "plt.xlabel('Topic')\n",
        "plt.ylabel('Number of Documents')\n",
        "plt.title('Distribution of Topics')\n",
        "plt.show()\n"
      ],
      "metadata": {
        "colab": {
          "base_uri": "https://localhost:8080/",
          "height": 472
        },
        "id": "t3ZT9xTTpmof",
        "outputId": "e712f6b3-f6bb-467e-8fe2-61574d786be9"
      },
      "execution_count": null,
      "outputs": [
        {
          "output_type": "display_data",
          "data": {
            "text/plain": [
              "<Figure size 640x480 with 1 Axes>"
            ],
            "image/png": "[encoded data removed]"
          },
          "metadata": {}
        }
      ]
    },
    {
      "cell_type": "markdown",
      "source": [
        "#### 4.2.3 Display LDA Topics and Their Key Words"
      ],
      "metadata": {
        "id": "oJbz9YmURthG"
      }
    },
    {
      "cell_type": "code",
      "source": [
        "from sklearn.feature_extraction.text import ENGLISH_STOP_WORDS\n",
        "from sklearn.feature_extraction.text import TfidfVectorizer\n",
        "from sklearn.decomposition import LatentDirichletAllocation\n",
        "\n",
        "# Create a TF-IDF vectorizer and fit it to text data with bigrams\n",
        "vectorizer = TfidfVectorizer(ngram_range=(1, 2))\n",
        "tfidf_matrix = vectorizer.fit_transform([\" \".join(tokens) for tokens in cleaned_texts])\n",
        "tfidf_feature_names = vectorizer.get_feature_names_out()\n",
        "\n",
        "# Define the number of topics\n",
        "num_topics = min(8, tfidf_matrix.shape[1])\n",
        "\n",
        "# Adjust other parameters of LDA model\n",
        "lda = LatentDirichletAllocation(n_components=num_topics, random_state=42, learning_method='batch', max_iter=20)\n",
        "topic_distributions = lda.fit_transform(tfidf_matrix)\n",
        "\n",
        "# Display the topics horizontally\n",
        "def display_topics(model, feature_names, num_top_words):\n",
        "    stop_words = ENGLISH_STOP_WORDS.union([\"appr\", \"appr opria\", \"opria ted\", \"opria\", \"substantially whatever\", \"ron farr\", \"appr opriated\", \"opriated\", \"dba\", \"fse\", \"class fse\", \"rem\", \"rem namely\", \"constable calendar\", \"duties make\", \"brownfields\", \"code august\", \"proposed amendments\", \"hearing citizen\", \"amendment placed\", \"said amendment\", \"upon november\", \"hearing attached\", \"item\", \"pi\", \"item pi\", \"time opening\", \"pursuant polls\", \"open close\", \"close tuesday\", \"order june\", \"zoning map\", \"file department\", \"amended file\", \"department planning\", \"incorporated reference\", \"development incorporated\", \"follows zoning\", \"amendment specifically\", \"portland dated\", \"portland\", \"city portland\", \"city council\", \"portland city\", \"maine\", \"pf\", \"hundredths\", \"hundredths feet\", \"side line\", \"casablanca tours\", \"elisa marr\", \"lambert\"])\n",
        "\n",
        "    for topic_idx, topic in enumerate(model.components_):\n",
        "        top_words = [feature_names[i] for i in topic.argsort()[:-num_top_words - 1:-1] if feature_names[i] not in stop_words]\n",
        "        print(f\"Topic {topic_idx + 1}: {', '.join(top_words)}\")\n",
        "\n",
        "# Adjust the number of top words based on the number of features\n",
        "num_top_words = min(10, len(tfidf_feature_names))\n",
        "display_topics(lda, tfidf_feature_names, num_top_words)\n"
      ],
      "metadata": {
        "colab": {
          "base_uri": "https://localhost:8080/"
        },
        "id": "drtsECl1IDOG",
        "outputId": "59794bd9-bb1d-4332-88d6-f6d9a9c28834"
      },
      "execution_count": null,
      "outputs": [
        {
          "output_type": "stream",
          "name": "stdout",
          "text": [
            "Topic 1: remote methods, remote, methods, geno, remote participation, elisa, marr, harbor hotel, rachel millette\n",
            "Topic 2: officers approval, granting municipal, order passed, municipal officers, order granting, granting, passed, application class, llc dba\n",
            "Topic 3: city, order, shall, street, council, ordered, agreement\n",
            "Topic 4: amended extended, empire, dock fore, dock, caring community, tipped, protection waste, diversion grant, waste diversion, diversion\n",
            "Topic 5: transfer, defendant, defendant rem, currency, criminal, docket, approval transfer\n",
            "Topic 6: june order, year appropriation, municipal election, polls, education kindergarten, kindergarten grade, kindergarten, portland board\n",
            "Topic 7: constable, appointed constable, midnight december, firearm concealed, carry firearm, concealed, allowed carry, firearm\n",
            "Topic 8: awar, faa, protection agency, mayor pro, non resident, boards committees, feder, feder al, federal aviation\n"
          ]
        }
      ]
    },
    {
      "cell_type": "markdown",
      "source": [
        "#### 4.2.4 Calculate Jaccard Similarity Score to Find the Interest Category for Topics"
      ],
      "metadata": {
        "id": "fb2xoCSdDPPn"
      }
    },
    {
      "cell_type": "code",
      "source": [
        "# Predefined interests with keywords\n",
        "interests = {\n",
        "    'Environmental': {'fish exchange','protection waste', 'diversion grant', 'waste diversion', 'dock fore', 'dock', 'caring community','diversion', 'portland fish', 'parks conservancy', 'conservancy', 'iswg','sustainability', 'conservation','emission','Renewable Energy','Biodiversity','Climate Change', 'Greenhouse', 'Gas','polution','Natural Resource'},\n",
        "    'Safety': {'wrecker','transfer', 'defendant', 'defendant rem', 'criminal','approval transfer' ,'constable', 'ordered appointment', 'special plan','Tobacco','appointed constable', 'midnight december', 'carry firearm', 'firearm concealed','safety', 'security', 'accident','eliminating','carry firearm','criminal', 'emergency', 'hazard', 'risk', 'secure', 'concealed', 'midnight','passage','defendant'},\n",
        "    'Education': {'remote methods', 'remote', 'application class', 'llc dba','methods', 'geno', 'remote participation','service program', 'remote methods', 'adult education', 'education', 'public education','adult education','learning', 'school', 'teaching', 'knowledge', 'students', 'public education', 'year appropriation', 'appropriation','polls', 'kindergarten grade', 'education kindergarten', 'kindergarten'},\n",
        "    'Infrastructure': {'wrecker','map city','protection agency','boards committees','Cables', 'Maine Power','Grantor','street','faa','cables', 'maine power','West commercial','assembly facilities','facilities division','ships', 'cruise ships', 'service reserve', 'miranda group', 'burrows application' },\n",
        "  'Zoning': {'amendment zoning','map city', 'resident','Land Grantor','Height Overlay','Grantor','festival', 'vendors', 'festival area', 'marathon', 'Pride Portland','Portland Board', 'area shall', 'zoning','festival area','regulation','facilities division','planning','zoning change','reference zoning', 'zoning laws', 'building codes', 'rezoning', 'land development','land use','map','overlay','zone','amended'}\n",
        "}\n",
        "\n",
        "# Helper function to calculate Jaccard similarity\n",
        "def calculate_jaccard_similarity(set1, set2):\n",
        "    intersection = len(set1.intersection(set2))\n",
        "    union = len(set1.union(set2))\n",
        "    return intersection / union if union != 0 else 0.0\n",
        "\n",
        "# Calculate Jaccard similarity between topic keywords and predefined interests\n",
        "similarity_scores = {}\n",
        "assigned_topics = []  # Define assigned_topics\n",
        "topic_scores = []    # Define topic_scores\n",
        "\n",
        "for topic_idx, topic_keywords in enumerate(lda.components_):\n",
        "    topic_keywords_set = set([tfidf_feature_names[i] for i in topic_keywords.argsort()[:-num_top_words - 1:-1]])\n",
        "    scores = {}\n",
        "    for interest, interest_keywords in interests.items():\n",
        "        interest_keywords_set = set(interest_keywords)\n",
        "        jaccard_similarity = calculate_jaccard_similarity(topic_keywords_set, interest_keywords_set)\n",
        "        scores[interest] = jaccard_similarity\n",
        "    similarity_scores[topic_idx + 1] = scores\n",
        "\n",
        "    # Assigning topics based on the highest score\n",
        "    assigned_topic = max(scores, key=scores.get)\n",
        "    assigned_score = scores[assigned_topic]\n",
        "\n",
        "    assigned_topics.append(assigned_topic)\n",
        "    topic_scores.append(assigned_score)\n",
        "\n",
        "# Set a threshold for the Jaccard Similarity Scores\n",
        "threshold = 0.03\n",
        "\n",
        "# Assign the predefined interest with the highest score to each topic, considering the threshold\n",
        "topic_interests = {}\n",
        "for topic_idx, scores in similarity_scores.items():\n",
        "    assigned_interest = max(scores, key=scores.get) if max(scores.values()) > threshold else \"Uncategorized\"\n",
        "    topic_interests[topic_idx] = assigned_interest\n",
        "\n",
        "# Create a DataFrame\n",
        "df_category = pd.DataFrame(list(topic_interests.items()), columns=['Topic', 'Interest'])\n",
        "\n",
        "# Print the DataFrame\n",
        "print(\"\\nDataFrame df_category:\")\n",
        "print(df_category)\n"
      ],
      "metadata": {
        "colab": {
          "base_uri": "https://localhost:8080/"
        },
        "id": "uadYw3nbziRQ",
        "outputId": "cc5b3661-093e-41d9-e69b-d07b4abc4c9b"
      },
      "execution_count": null,
      "outputs": [
        {
          "output_type": "stream",
          "name": "stdout",
          "text": [
            "\n",
            "DataFrame df_category:\n",
            "   Topic        Interest\n",
            "0      1       Education\n",
            "1      2       Education\n",
            "2      3  Infrastructure\n",
            "3      4   Environmental\n",
            "4      5          Safety\n",
            "5      6       Education\n",
            "6      7          Safety\n",
            "7      8  Infrastructure\n"
          ]
        }
      ]
    },
    {
      "cell_type": "markdown",
      "source": [
        "#### 4.2.5 Merge tables to Get Documents' Interest Category as df_lda\n",
        "\n"
      ],
      "metadata": {
        "id": "i0mSZKpXSI-Z"
      }
    },
    {
      "cell_type": "code",
      "source": [
        "# Merge the DataFrames on the 'Topic' column\n",
        "df_lda = pd.merge(df_topic, df_category, on='Topic')\n",
        "\n",
        "# Print the new DataFrame\n",
        "print(\"\\nDataFrame df_order:\")\n",
        "print(df_lda)"
      ],
      "metadata": {
        "id": "8W7AdeI8TK0H",
        "colab": {
          "base_uri": "https://localhost:8080/"
        },
        "outputId": "dd6167a5-93e1-4974-8a96-a85e3a59df40"
      },
      "execution_count": null,
      "outputs": [
        {
          "output_type": "stream",
          "name": "stdout",
          "text": [
            "\n",
            "DataFrame df_order:\n",
            "    Document  Topic        Interest\n",
            "0          1      3  Infrastructure\n",
            "1          2      3  Infrastructure\n",
            "2          7      3  Infrastructure\n",
            "3          8      3  Infrastructure\n",
            "4          9      3  Infrastructure\n",
            "..       ...    ...             ...\n",
            "384      211      7          Safety\n",
            "385      285      7          Safety\n",
            "386      289      7          Safety\n",
            "387      321      7          Safety\n",
            "388      348      7          Safety\n",
            "\n",
            "[389 rows x 3 columns]\n"
          ]
        }
      ]
    },
    {
      "cell_type": "code",
      "source": [
        "# Assuming 'DocumentNumber' is the column based on which you want to sort the DataFrame\n",
        "df_lda_sorted = df_lda.sort_values(by='Document', ascending=True)\n",
        "\n",
        "# Display the first 38 rows of the sorted DataFrame\n",
        "print(\"\\nDataFrame df_cluster_sorted:\")\n",
        "print(df_lda_sorted.head(38))"
      ],
      "metadata": {
        "colab": {
          "base_uri": "https://localhost:8080/"
        },
        "id": "83oEvoD92Voz",
        "outputId": "6d6fe3b3-46fe-4636-842b-c8f3a637d814"
      },
      "execution_count": null,
      "outputs": [
        {
          "output_type": "stream",
          "name": "stdout",
          "text": [
            "\n",
            "DataFrame df_cluster_sorted:\n",
            "     Document  Topic        Interest\n",
            "0           1      3  Infrastructure\n",
            "1           2      3  Infrastructure\n",
            "259         3      2       Education\n",
            "301         4      6       Education\n",
            "260         5      2       Education\n",
            "261         6      2       Education\n",
            "2           7      3  Infrastructure\n",
            "3           8      3  Infrastructure\n",
            "4           9      3  Infrastructure\n",
            "302        10      6       Education\n",
            "303        11      6       Education\n",
            "304        12      6       Education\n",
            "305        13      6       Education\n",
            "262        14      2       Education\n",
            "5          15      3  Infrastructure\n",
            "333        16      4   Environmental\n",
            "339        17      1       Education\n",
            "346        18      8  Infrastructure\n",
            "6          19      3  Infrastructure\n",
            "7          20      3  Infrastructure\n",
            "8          21      3  Infrastructure\n",
            "340        22      1       Education\n",
            "9          23      3  Infrastructure\n",
            "10         24      3  Infrastructure\n",
            "11         25      3  Infrastructure\n",
            "12         26      3  Infrastructure\n",
            "263        27      2       Education\n",
            "264        28      2       Education\n",
            "265        29      2       Education\n",
            "266        30      2       Education\n",
            "267        31      2       Education\n",
            "13         32      3  Infrastructure\n",
            "14         33      3  Infrastructure\n",
            "15         34      3  Infrastructure\n",
            "16         35      3  Infrastructure\n",
            "366        36      5          Safety\n",
            "268        37      2       Education\n",
            "269        38      2       Education\n"
          ]
        }
      ]
    },
    {
      "cell_type": "markdown",
      "source": [
        "## 5.Find the Location (Address) for each PDF"
      ],
      "metadata": {
        "id": "CrAXeZIu28SE"
      }
    },
    {
      "cell_type": "code",
      "source": [
        "pip install fuzzywuzzy"
      ],
      "metadata": {
        "colab": {
          "base_uri": "https://localhost:8080/"
        },
        "id": "A_-m4HZq3Rgr",
        "outputId": "3ac69bf1-47c6-4331-da9a-dc65e15cd5d8"
      },
      "execution_count": null,
      "outputs": [
        {
          "output_type": "stream",
          "name": "stdout",
          "text": [
            "Collecting fuzzywuzzy\n",
            "  Downloading fuzzywuzzy-0.18.0-py2.py3-none-any.whl (18 kB)\n",
            "Installing collected packages: fuzzywuzzy\n",
            "Successfully installed fuzzywuzzy-0.18.0\n"
          ]
        }
      ]
    },
    {
      "cell_type": "code",
      "source": [
        "import spacy\n",
        "import pandas as pd\n",
        "from fuzzywuzzy import process\n",
        "\n",
        "# Load the spaCy language model\n",
        "nlp = spacy.load('en_core_web_sm')\n",
        "\n",
        "# List of predefined areas\n",
        "predefined_areas = [\n",
        "    \"West End\",\n",
        "    \"Parkside\",\n",
        "    \"East Bayside\",\n",
        "    \"East End\",\n",
        "    \"Bayside\",\n",
        "    \"Deering\",\n",
        "    \"Munjoy Hill\",\n",
        "    \"Back Cove\",\n",
        "    \"Old Port\",\n",
        "    \"Highlands\"]\n",
        "\n",
        "#  'pdf_texts' is a list containing the content of each PDF\n",
        "data = []\n",
        "\n",
        "for i, text in enumerate(pdf_texts):\n",
        "    doc = nlp(text)\n",
        "\n",
        "    # Extract entities of type 'GPE' (Geopolitical Entity, includes locations)\n",
        "    addresses = [ent.text for ent in doc.ents if ent.label_ == 'GPE']\n",
        "\n",
        "    # Initialize variables to keep track of the best match\n",
        "    best_match = None\n",
        "    best_score = 0\n",
        "\n",
        "    # Iterate through individual addresses and find the best match for the PDF\n",
        "    for address in addresses:\n",
        "        current_match, score = process.extractOne(address, predefined_areas)\n",
        "        if score > best_score:\n",
        "            best_match = current_match\n",
        "            best_score = score\n",
        "\n",
        "    # Append data for the current PDF to the list\n",
        "    data.append({\n",
        "        'Document': i + 1,\n",
        "        'Address': best_match,\n",
        "        'Score': best_score\n",
        "    })\n",
        "\n",
        "# Create a DataFrame from the list\n",
        "df_address = pd.DataFrame(data)\n",
        "\n",
        "# Display the processed data\n",
        "print(df_address)\n"
      ],
      "metadata": {
        "colab": {
          "base_uri": "https://localhost:8080/"
        },
        "id": "vvTA1if73inh",
        "outputId": "095b0c70-4246-44d8-9a77-7b66b7671a22"
      },
      "execution_count": null,
      "outputs": [
        {
          "output_type": "stream",
          "name": "stderr",
          "text": [
            "/usr/local/lib/python3.10/dist-packages/fuzzywuzzy/fuzz.py:11: UserWarning: Using slow pure-python SequenceMatcher. Install python-Levenshtein to remove this warning\n",
            "  warnings.warn('Using slow pure-python SequenceMatcher. Install python-Levenshtein to remove this warning')\n",
            "WARNING:root:Applied processor reduces input query to empty string, all comparisons will have score 0. [Query: '']\n",
            "WARNING:root:Applied processor reduces input query to empty string, all comparisons will have score 0. [Query: '−']\n",
            "WARNING:root:Applied processor reduces input query to empty string, all comparisons will have score 0. [Query: '']\n"
          ]
        },
        {
          "output_type": "stream",
          "name": "stdout",
          "text": [
            "     Document      Address  Score\n",
            "0           1  Munjoy Hill     47\n",
            "1           2     West End    100\n",
            "2           3         None      0\n",
            "3           4     West End     68\n",
            "4           5  Munjoy Hill     43\n",
            "..        ...          ...    ...\n",
            "384       385     Old Port     68\n",
            "385       386     Old Port     68\n",
            "386       387     Old Port     68\n",
            "387       388     Old Port     56\n",
            "388       389     Old Port     68\n",
            "\n",
            "[389 rows x 3 columns]\n"
          ]
        }
      ]
    },
    {
      "cell_type": "markdown",
      "source": [
        "## 6.Policy Prediction Using Two Models"
      ],
      "metadata": {
        "id": "jVRmJaJd5d8A"
      }
    },
    {
      "cell_type": "markdown",
      "source": [
        "### 6.1 Model 1 - K-means Prediction"
      ],
      "metadata": {
        "id": "LEy_QqJf6hn_"
      }
    },
    {
      "cell_type": "markdown",
      "source": [
        "####  6.1.1 Merge df_address with df_cluster to get the address, interest category of pdf"
      ],
      "metadata": {
        "id": "Ji-hhrDn6jt5"
      }
    },
    {
      "cell_type": "code",
      "source": [
        "# Convert 'Document' column to int64 in df_cluster\n",
        "df_cluster['Document'] = df_cluster['Document'].astype('int64')\n",
        "\n",
        "# Rename 'Interest Category' to 'Interest' in df_cluster\n",
        "df_cluster = df_cluster.rename(columns={'Interest Category': 'Interest'})\n",
        "\n",
        "# Perform the merge\n",
        "df_cluster_merge = pd.merge(df_cluster, df_address, on='Document', how='inner')\n",
        "\n",
        "# Drop one of the 'Cluster', 'Score' columns\n",
        "df_cluster_merge = df_cluster_merge.drop(columns=['Cluster', 'Score'])\n",
        "\n",
        "# Display df_cluster_merge\n",
        "print(df_cluster_merge)\n"
      ],
      "metadata": {
        "colab": {
          "base_uri": "https://localhost:8080/"
        },
        "id": "PuaTUni6h29x",
        "outputId": "ef6bcbca-6235-486c-f9c2-644156e77dc8"
      },
      "execution_count": null,
      "outputs": [
        {
          "output_type": "stream",
          "name": "stdout",
          "text": [
            "     Document        Interest      Address\n",
            "0           1          Safety  Munjoy Hill\n",
            "1           8          Safety         None\n",
            "2          19          Safety         None\n",
            "3          33          Safety     East End\n",
            "4          45          Safety     Old Port\n",
            "..        ...             ...          ...\n",
            "384       324  Infrastructure         None\n",
            "385       325  Infrastructure     Old Port\n",
            "386       366  Infrastructure     Old Port\n",
            "387       372  Infrastructure  Munjoy Hill\n",
            "388       373  Infrastructure      Bayside\n",
            "\n",
            "[389 rows x 3 columns]\n"
          ]
        }
      ]
    },
    {
      "cell_type": "markdown",
      "source": [
        "####  6.1.2 Cluster_prediction :Merge df1 and df_cluster to Predict Most Beneficial Policy"
      ],
      "metadata": {
        "id": "ZPFRd9AbIcP_"
      }
    },
    {
      "cell_type": "code",
      "source": [
        "# Convert 'Document' column to integers in df_cluster_merge\n",
        "df_cluster_merge['Document'] = df_cluster_merge['Document'].astype('int64')\n",
        "\n",
        "# Merge the two DataFrames based on the \"Interest\" and \"Address\" columns\n",
        "cluster_prediction = pd.merge(df1, df_cluster_merge, on=['Interest', 'Address'], how='left')\n",
        "\n",
        "# Display the updated DataFrame with 'Document' formatted as integers\n",
        "with pd.option_context('display.float_format', '{:.0f}'.format):\n",
        "    print(cluster_prediction)"
      ],
      "metadata": {
        "colab": {
          "base_uri": "https://localhost:8080/"
        },
        "id": "19gKtDTq238I",
        "outputId": "4de59a52-6a0c-4238-dfa8-063f3ffc618b"
      },
      "execution_count": null,
      "outputs": [
        {
          "output_type": "stream",
          "name": "stdout",
          "text": [
            "      Person       Address  AGE        Interest  Document\n",
            "0          1      West End   25   Environmental       210\n",
            "1          1      West End   25   Environmental       258\n",
            "2          1      West End   25   Environmental       374\n",
            "3          1      West End   25   Environmental       177\n",
            "4          1      West End   25   Environmental       178\n",
            "...      ...           ...  ...             ...       ...\n",
            "2945     499       Deering   26  Infrastructure       307\n",
            "2946     499       Deering   26  Infrastructure       365\n",
            "2947     499       Deering   26  Infrastructure       378\n",
            "2948     499       Deering   26  Infrastructure       176\n",
            "2949     500  East Bayside   32       Education       NaN\n",
            "\n",
            "[2950 rows x 5 columns]\n"
          ]
        }
      ]
    },
    {
      "cell_type": "markdown",
      "source": [
        "#### 6.1.3 Create Plots for The Cluster Prediction Distribution"
      ],
      "metadata": {
        "id": "lZWDDgqXB2d3"
      }
    },
    {
      "cell_type": "code",
      "source": [
        "import matplotlib.pyplot as plt\n",
        "\n",
        "# Count the occurrences of each 'Person'\n",
        "pdf_counts = cluster_prediction['Person'].value_counts()\n",
        "\n",
        "# Create a countplot\n",
        "ax = sns.countplot(x=pdf_counts.values)\n",
        "\n",
        "# Add number annotations on top of each bar\n",
        "for p in ax.patches:\n",
        "    ax.annotate(f'{int(p.get_height())}', (p.get_x() + p.get_width() / 2., p.get_height()), ha='center', va='center', xytext=(0, 5), textcoords='offset points')\n",
        "\n",
        "# Set plot labels and title\n",
        "plt.title('Frequency Distribution of PDF Counts per Person by K-Means')\n",
        "plt.xlabel('Number of PDFs')\n",
        "plt.ylabel('Frequency')\n",
        "\n",
        "# Display the plot\n",
        "plt.show()"
      ],
      "metadata": {
        "colab": {
          "base_uri": "https://localhost:8080/",
          "height": 472
        },
        "id": "1hu84XNHOYj1",
        "outputId": "77e3efe8-3174-4e77-bc98-a9e1f4b6f0d2"
      },
      "execution_count": null,
      "outputs": [
        {
          "output_type": "display_data",
          "data": {
            "text/plain": [
              "<Figure size 640x480 with 1 Axes>"
            ],
            "image/png": "[encoded data removed]"
          },
          "metadata": {}
        }
      ]
    },
    {
      "cell_type": "code",
      "source": [
        "import matplotlib.pyplot as plt\n",
        "import seaborn as sns\n",
        "\n",
        "# Set the number of top person IDs to display\n",
        "top_n = 20\n",
        "\n",
        "# Count the occurrences of each 'Person'\n",
        "pdf_counts_by_person = cluster_prediction['Person'].value_counts()\n",
        "\n",
        "# Select the top N person IDs\n",
        "top_person_ids = pdf_counts_by_person.head(top_n).index\n",
        "\n",
        "# Filter the DataFrame for the top person IDs\n",
        "filtered_df = cluster_prediction[cluster_prediction['Person'].isin(top_person_ids)]\n",
        "\n",
        "# Create a countplot\n",
        "ax = sns.countplot(x='Person', data=filtered_df, order=top_person_ids)\n",
        "\n",
        "# Add number annotations on top of each bar\n",
        "for p in ax.patches:\n",
        "    ax.annotate(f'{int(p.get_height())}', (p.get_x() + p.get_width() / 2., p.get_height()), ha='center', va='center', xytext=(0, 5), textcoords='offset points')\n",
        "\n",
        "# Set plot labels and title\n",
        "plt.title(f'Top {top_n} Person - Frequency Distribution of PDF Counts by K-Means')\n",
        "plt.xlabel('Person ID')\n",
        "plt.ylabel('Frequency')\n",
        "\n",
        "# Rotate x-axis labels for better readability\n",
        "plt.xticks(rotation=45, ha='right')\n",
        "\n",
        "# Display the plot\n",
        "plt.tight_layout()  # Adjust layout for better spacing\n",
        "plt.show()\n"
      ],
      "metadata": {
        "id": "pzADEiIkObHG",
        "outputId": "9206d309-fd10-43a0-96cf-812ff9d12c78",
        "colab": {
          "base_uri": "https://localhost:8080/",
          "height": 487
        }
      },
      "execution_count": null,
      "outputs": [
        {
          "output_type": "display_data",
          "data": {
            "text/plain": [
              "<Figure size 640x480 with 1 Axes>"
            ],
            "image/png": "[encoded data removed]"
          },
          "metadata": {}
        }
      ]
    },
    {
      "cell_type": "markdown",
      "source": [
        "### 6.2 Model 2 - LDA Prediction\n",
        "#### 6.2.1 Merge df_address with df_lda to Get the Address, Interest category for PDFs"
      ],
      "metadata": {
        "id": "TKFGHKYt4FyI"
      }
    },
    {
      "cell_type": "code",
      "source": [
        "print(df_lda)\n",
        "print(df_address)"
      ],
      "metadata": {
        "colab": {
          "base_uri": "https://localhost:8080/"
        },
        "id": "wur8OpA24SN-",
        "outputId": "250cad28-8ecc-4793-a3c3-56f28c93d14a"
      },
      "execution_count": null,
      "outputs": [
        {
          "output_type": "stream",
          "name": "stdout",
          "text": [
            "    Document  Topic        Interest\n",
            "0          1      3  Infrastructure\n",
            "1          2      3  Infrastructure\n",
            "2          7      3  Infrastructure\n",
            "3          8      3  Infrastructure\n",
            "4          9      3  Infrastructure\n",
            "..       ...    ...             ...\n",
            "384      211      7          Safety\n",
            "385      285      7          Safety\n",
            "386      289      7          Safety\n",
            "387      321      7          Safety\n",
            "388      348      7          Safety\n",
            "\n",
            "[389 rows x 3 columns]\n",
            "     Document      Address  Score\n",
            "0           1  Munjoy Hill     47\n",
            "1           2     West End    100\n",
            "2           3         None      0\n",
            "3           4     West End     68\n",
            "4           5  Munjoy Hill     43\n",
            "..        ...          ...    ...\n",
            "384       385     Old Port     68\n",
            "385       386     Old Port     68\n",
            "386       387     Old Port     68\n",
            "387       388     Old Port     56\n",
            "388       389     Old Port     68\n",
            "\n",
            "[389 rows x 3 columns]\n"
          ]
        }
      ]
    },
    {
      "cell_type": "code",
      "source": [
        "# Convert 'Document' column to int64 in df_lda\n",
        "df_lda['Document'] = df_lda['Document'].astype('int64')\n",
        "\n",
        "# Perform the merge\n",
        "df_lda_merge = pd.merge(df_lda, df_address, on='Document', how='inner')\n",
        "\n",
        "# Drop one of the 'Cluster', 'Score' columns\n",
        "df_lda_merge = df_lda_merge.drop(columns=['Topic', 'Score'])\n",
        "\n",
        "# Display df_cluster_merge\n",
        "print(df_lda_merge)\n"
      ],
      "metadata": {
        "colab": {
          "base_uri": "https://localhost:8080/"
        },
        "id": "DFB64aXi4WYd",
        "outputId": "85efc87e-f011-4d87-b4a6-ade078413bcc"
      },
      "execution_count": null,
      "outputs": [
        {
          "output_type": "stream",
          "name": "stdout",
          "text": [
            "     Document        Interest       Address\n",
            "0           1  Infrastructure   Munjoy Hill\n",
            "1           2  Infrastructure      West End\n",
            "2           7  Infrastructure      Old Port\n",
            "3           8  Infrastructure          None\n",
            "4           9  Infrastructure      Old Port\n",
            "..        ...             ...           ...\n",
            "384       211          Safety   Munjoy Hill\n",
            "385       285          Safety  East Bayside\n",
            "386       289          Safety          None\n",
            "387       321          Safety          None\n",
            "388       348          Safety          None\n",
            "\n",
            "[389 rows x 3 columns]\n"
          ]
        }
      ]
    },
    {
      "cell_type": "markdown",
      "source": [
        "#### 6.2.2 LDA_Prediction :Merge df1 and df_lda to Predict Most Beneficial Policy"
      ],
      "metadata": {
        "id": "VF-emdzCCQ0b"
      }
    },
    {
      "cell_type": "code",
      "source": [
        "print(df1)"
      ],
      "metadata": {
        "colab": {
          "base_uri": "https://localhost:8080/"
        },
        "id": "4aBLRZYe48vC",
        "outputId": "745150e4-cb47-4dd7-8986-660b197ecc2c"
      },
      "execution_count": null,
      "outputs": [
        {
          "output_type": "stream",
          "name": "stdout",
          "text": [
            "     Person       Address  AGE        Interest\n",
            "0         1      West End   25   Environmental\n",
            "1         2      Parkside   49          Safety\n",
            "2         3  East Bayside   26       Education\n",
            "3         4  East Bayside   24          Safety\n",
            "4         5      East End   36          Safety\n",
            "..      ...           ...  ...             ...\n",
            "495     496     Back Cove   48       Education\n",
            "496     497  East Bayside   36          Zoning\n",
            "497     498     Back Cove   41          Zoning\n",
            "498     499       Deering   26  Infrastructure\n",
            "499     500  East Bayside   32       Education\n",
            "\n",
            "[500 rows x 4 columns]\n"
          ]
        }
      ]
    },
    {
      "cell_type": "code",
      "source": [
        "# Convert 'Document' column to integers in df_lda_merge\n",
        "df_lda_merge['Document'] = df_lda_merge['Document'].astype('int64')\n",
        "\n",
        "# Merge the two DataFrames based on the \"Interest\" and \"Address\" columns\n",
        "lda_prediction = pd.merge(df1, df_lda_merge, on=['Interest', 'Address'], how='left')\n",
        "\n",
        "# Display the updated DataFrame with 'Document' formatted as integers\n",
        "with pd.option_context('display.float_format', '{:.0f}'.format):\n",
        "    print(lda_prediction)"
      ],
      "metadata": {
        "colab": {
          "base_uri": "https://localhost:8080/"
        },
        "id": "yAkLXMna4_Dr",
        "outputId": "ad6e60e9-6db4-4353-dc2e-cb56e2dcb6ce"
      },
      "execution_count": null,
      "outputs": [
        {
          "output_type": "stream",
          "name": "stdout",
          "text": [
            "      Person       Address  AGE        Interest  Document\n",
            "0          1      West End   25   Environmental       NaN\n",
            "1          2      Parkside   49          Safety       168\n",
            "2          3  East Bayside   26       Education       113\n",
            "3          4  East Bayside   24          Safety       108\n",
            "4          4  East Bayside   24          Safety       285\n",
            "...      ...           ...  ...             ...       ...\n",
            "2645     499       Deering   26  Infrastructure       307\n",
            "2646     499       Deering   26  Infrastructure       350\n",
            "2647     499       Deering   26  Infrastructure       365\n",
            "2648     499       Deering   26  Infrastructure       378\n",
            "2649     500  East Bayside   32       Education       113\n",
            "\n",
            "[2650 rows x 5 columns]\n"
          ]
        }
      ]
    },
    {
      "cell_type": "markdown",
      "source": [
        "#### 6.2.3 Create Plots for The LDA Prediction Distribution"
      ],
      "metadata": {
        "id": "7OQ5MxUnCHHU"
      }
    },
    {
      "cell_type": "code",
      "source": [
        "import matplotlib.pyplot as plt\n",
        "\n",
        "# Count the occurrences of each 'Person'\n",
        "pdf_counts = lda_prediction['Person'].value_counts()\n",
        "\n",
        "# Create a countplot\n",
        "ax = sns.countplot(x=pdf_counts.values)\n",
        "\n",
        "# Add number annotations on top of each bar\n",
        "for p in ax.patches:\n",
        "    ax.annotate(f'{int(p.get_height())}', (p.get_x() + p.get_width() / 2., p.get_height()), ha='center', va='center', xytext=(0, 5), textcoords='offset points')\n",
        "\n",
        "# Set plot labels and title\n",
        "plt.title('Frequency Distribution of PDF Counts per Person By LDA')\n",
        "plt.xlabel('Number of PDFs')\n",
        "plt.ylabel('Frequency')\n",
        "\n",
        "# Display the plot\n",
        "plt.show()"
      ],
      "metadata": {
        "colab": {
          "base_uri": "https://localhost:8080/",
          "height": 472
        },
        "id": "OZAZCIyE5hBN",
        "outputId": "baa5f128-6198-4edf-be89-b4d8e35bed74"
      },
      "execution_count": null,
      "outputs": [
        {
          "output_type": "display_data",
          "data": {
            "text/plain": [
              "<Figure size 640x480 with 1 Axes>"
            ],
            "image/png": "[encoded data removed]"
          },
          "metadata": {}
        }
      ]
    },
    {
      "cell_type": "code",
      "source": [
        "import matplotlib.pyplot as plt\n",
        "import seaborn as sns\n",
        "\n",
        "# Set the number of top person IDs to display\n",
        "top_n = 20\n",
        "\n",
        "# Count the occurrences of each 'Person'\n",
        "pdf_counts_by_person = lda_prediction['Person'].value_counts()\n",
        "\n",
        "# Select the top N person IDs\n",
        "top_person_ids = pdf_counts_by_person.head(top_n).index\n",
        "\n",
        "# Filter the DataFrame for the top person IDs\n",
        "filtered_df = lda_prediction[lda_prediction['Person'].isin(top_person_ids)]\n",
        "\n",
        "# Create a countplot\n",
        "ax = sns.countplot(x='Person', data=filtered_df, order=top_person_ids)\n",
        "\n",
        "# Add number annotations on top of each bar\n",
        "for p in ax.patches:\n",
        "    ax.annotate(f'{int(p.get_height())}', (p.get_x() + p.get_width() / 2., p.get_height()), ha='center', va='center', xytext=(0, 5), textcoords='offset points')\n",
        "\n",
        "# Set plot labels and title\n",
        "plt.title(f'Top {top_n} Person - Frequency Distribution of PDF Counts By LDA')\n",
        "plt.xlabel('Person ID')\n",
        "plt.ylabel('Frequency')\n",
        "\n",
        "# Rotate x-axis labels for better readability\n",
        "plt.xticks(rotation=45, ha='right')\n",
        "\n",
        "# Display the plot\n",
        "plt.tight_layout()  # Adjust layout for better spacing\n",
        "plt.show()\n"
      ],
      "metadata": {
        "colab": {
          "base_uri": "https://localhost:8080/",
          "height": 487
        },
        "id": "5GvOMRra55Hj",
        "outputId": "3467641d-5188-4ae9-db94-7c36e6afdeb0"
      },
      "execution_count": null,
      "outputs": [
        {
          "output_type": "display_data",
          "data": {
            "text/plain": [
              "<Figure size 640x480 with 1 Axes>"
            ],
            "image/png": "[encoded data removed]"
          },
          "metadata": {}
        }
      ]
    },
    {
      "cell_type": "markdown",
      "source": [
        "# Conclusion\n",
        "\n",
        "In summary, this project utilized two datasets from the sponsor to predict optimal policies for individuals.\n",
        "\n",
        "We employed various techniques, including data collection, preprocessing, text mining (TF-IDF, NER, topic modeling), and methods like K-Means clustering and LDA modeling. The outcome was a successful prediction of the best policy for individuals, establishing a foundational recommendation system for the Election Bridge platform.\n",
        "\n",
        "Upon verification of 38 interest results, cluster prediction achieved 16 correct outcomes, while LDA prediction yielded 15 correct results, resulting in accuracy rates of 40% and 39.47%, respectively. Both models demonstrated relatively low accuracy, with a minimal difference between them.\n",
        "\n",
        "Our experiments highlighted the significance of keywords in interest classification accuracy.\n",
        "\n",
        "To enhance precision, further optimization is needed, involving the calibration of interest classification keywords and continuous consultation with domain experts for model refinement and improved recommendation accuracy.\n",
        "\n"
      ],
      "metadata": {
        "id": "6-BRCxaoI-AO"
      }
    },
    {
      "cell_type": "markdown",
      "source": [
        "# Reference\n",
        "\n",
        "[1] [Comparison] Natural Language Processing vs Text Mining. (2018, December 31). Sloboda Studio. https://sloboda-studio.com/blog/natural-language-processing-vs-text-mining\n",
        "\n",
        "[2] Kleinberg, J., Ludwig, J., Mullainathan, S., & Obermeyer, Z. (2015). Prediction Policy Problems. American Economic Review, 105(5), 491–495. https://doi.org/10.1257/aer.p20151023\n",
        "\n",
        "[3] Python Extract Text From PDF (Developer Tutorial) | IronPDF for Python. (n.d.). Ironpdf.com. Retrieved November 20, 2023, from Python Extract Text From PDF (Developer Tutorial) | IronPDF for Python\n",
        "\n",
        "[4] Find all locations / cities / places in a text. (n.d.). Stack Overflow. Retrieved November 20, 2023, from https://stackoverflow.com/questions/30150047/find-all-locations-cities-places-in-a-text‌\n",
        "\n",
        "[5] Recommendation System in Python. (n.d.). Www.linkedin.com. Retrieved November 20, 2023, from https://www.linkedin.com/pulse/recommendation-system-python-amit-kumar\n",
        "\n",
        "[6] Machine Learning with an Amazon like Recommendation Engine. (2021, August 17). Python for Engineers. https://new.pythonforengineers.com/blog/machine-learning-with-an-amazon-like-recommendation-engine\n",
        "\n",
        "\n"
      ],
      "metadata": {
        "id": "b7akq2vXJZ_F"
      }
    }
  ]
}